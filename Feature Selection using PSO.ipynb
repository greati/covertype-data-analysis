{
 "cells": [
  {
   "cell_type": "markdown",
   "metadata": {},
   "source": [
    "# Feature Selection using Particle Swarm Optimization (PSO)\n",
    "\n",
    "The search space for this problem corresponds to the power set of the set of the 54 attributes, which means\n",
    "$2^{54}$ possibilities. Denote such space by $\\mathcal{S}$. A local search algorithm can seek the desired subset of attributes without having\n",
    "to pass through each of the elements in this colossus space.\n",
    "\n",
    "Before submitting this problem to the PSO algorithm, it is necessary to define the way solutions (subsets) will\n",
    "be represented and the function to rank the solutions, also known as the *fitness function*."
   ]
  },
  {
   "cell_type": "markdown",
   "metadata": {},
   "source": [
    "## Solutions representation\n",
    "\n",
    "For this problem, a solution $i$ will be represented by a vector $x^i \\in [0,1]^{54}$, in which each component $j$, $x^i_j$, means the probability of selecting the corresponding attribute $j$. Denote $[0,1]^{54}$ by $\\mathcal{S_2}$. A threshold $0 \\leq \\theta \\leq 1$ defines \n",
    "if the attribute was selected or not: $x^i_j \\geq \\theta$ means that the attribute $j$ is selected in the solution $i$,\n",
    "as implemented by the simple function below. In this implementation, $\\theta = 0.5$:"
   ]
  },
  {
   "cell_type": "code",
   "execution_count": null,
   "metadata": {},
   "outputs": [],
   "source": [
    "def is_selected(xij):\n",
    "    '''\n",
    "    Determines if attribute j in solution i was selected\n",
    "    based on the value on position j of vector x^i.\n",
    "    '''\n",
    "    return xij >= 0.5"
   ]
  },
  {
   "cell_type": "markdown",
   "metadata": {},
   "source": [
    "## Fitness function\n",
    "\n",
    "This function will rank each solution according to the objective of selecting the most appropriate attribute for this classification problem. Since the purpose is to determine the class of an instance based on the attribute values, the similarity measure of correlation will be applied here. Correlation between two random variables $X$ and $Y$ is given by the\n",
    "equation:\n",
    "\n",
    "$$\n",
    "corr(X,Y) = \\frac{cov(X,Y)}{\\sigma_X\\sigma_Y}\n",
    "$$\n",
    "\n",
    "where $cov(X,Y)$ is the covariance between $X$ and $Y$. The fitness function is defined as the mean of the unsigned correlations (in $[0,1]$) of each selected attribute with respect to the class. Given that the PSO algorithm used here seeks to minimize the fitness value, the fitness function $f:\\mathcal{S_2}\\to\\mathbb{R}$ is given by the equation:\n",
    "\n",
    "$$\n",
    "f(x^i) = 1 - \\left(\\frac{\\sum_{j, x^i_j = 1} |corr(x^i_j,cover\\_type)|}{\\sum_{j, x^i_j=1} 1}\\right).\n",
    "$$"
   ]
  },
  {
   "cell_type": "markdown",
   "metadata": {},
   "source": [
    "## Implementation\n",
    "\n",
    "First of all, it is necessary to load the dataset:"
   ]
  },
  {
   "cell_type": "code",
   "execution_count": null,
   "metadata": {},
   "outputs": [],
   "source": [
    "import pandas as pd\n",
    "# read the dataset\n",
    "dataset = pd.read_csv(\"datasets/new_dataset_covertype.csv\")\n",
    "# preview\n",
    "dataset.head()"
   ]
  },
  {
   "cell_type": "markdown",
   "metadata": {},
   "source": [
    "Correlations with respect to the class are fixed values, and can be calculated using the following:"
   ]
  },
  {
   "cell_type": "code",
   "execution_count": null,
   "metadata": {},
   "outputs": [],
   "source": [
    "# compute attribute-class correlations\n",
    "class_correlations = dataset.corr(method=\"pearson\")['cover_type']"
   ]
  },
  {
   "cell_type": "markdown",
   "metadata": {},
   "source": [
    "Now, define the fitness function by:"
   ]
  },
  {
   "cell_type": "code",
   "execution_count": null,
   "metadata": {},
   "outputs": [],
   "source": [
    "import numpy as np\n",
    "\n",
    "def f(x, theta=0.5):\n",
    "    '''\n",
    "    Takes a vector in [0,1]^54 and compute its fitness value.\n",
    "    '''\n",
    "    selected_attrs = list(map(is_selected, x))\n",
    "    if (any(selected_attrs)):\n",
    "        sum_corr = sum([abs(class_correlations[i]) for i in np.arange(0,dataset.shape[1]-1) if selected_attrs[i]])\n",
    "        count_attrs = sum(selected_attrs)\n",
    "        return 1 - (sum_corr/count_attrs)\n",
    "    else:\n",
    "        return 1"
   ]
  },
  {
   "cell_type": "markdown",
   "metadata": {},
   "source": [
    "The PSO implementation used here comes from the `pyswarm` library. An amount of 30 executions is performed:"
   ]
  },
  {
   "cell_type": "code",
   "execution_count": null,
   "metadata": {},
   "outputs": [],
   "source": [
    "test = pd.Series([1,2]+[True])\n",
    "test"
   ]
  },
  {
   "cell_type": "code",
   "execution_count": null,
   "metadata": {},
   "outputs": [],
   "source": [
    "from pyswarm import pso\n",
    "import itertools\n",
    "# define variables's lower bound\n",
    "lb = np.zeros(dataset.shape[1] - 1)\n",
    "# define variables' upper bound\n",
    "ub = np.ones(dataset.shape[1] - 1)\n",
    "# number of trials\n",
    "max_trials = 5#30\n",
    "# swarm size\n",
    "swarm_sizes = [25, 50, 100]\n",
    "# maximum iterations\n",
    "max_iterations = [50, 100, 200]\n",
    "# dataframe to store results\n",
    "results_columns = pd.Index(['swarm_size', 'max_iterations', 'fitness']).append(dataset.columns[:-1])\n",
    "results = pd.DataFrame(columns=results_columns)\n",
    "# running PSO for max_trials times combining parameters\n",
    "for swarm_size, max_iterations in itertools.product(*[swarm_sizes, max_iterations]):\n",
    "    print(\"swarm_size = \" + str(swarm_size) + \", max_iterations = \" + str(max_iterations))\n",
    "    # execute PSO for the selected parameters\n",
    "    for trial in range(1, max_trials + 1):\n",
    "        # execute PSO\n",
    "        xopt, fopt = pso(f, lb, ub, swarmsize=swarm_size, maxiter=max_iterations)\n",
    "        # booleanize vector\n",
    "        xopt = list(map(is_selected, xopt))\n",
    "        # print info\n",
    "        print(\"Trial \" + str(trial) + \": \" + str(fopt) + \", selected \" + str(sum(xopt)))\n",
    "        # append result\n",
    "        results = results.append(pd.Series([swarm_size, max_iterations, fopt] + xopt, index=results_columns), ignore_index=True)\n",
    "results"
   ]
  },
  {
   "cell_type": "markdown",
   "metadata": {},
   "source": [
    "Now, check the solution with the least fitness values:"
   ]
  },
  {
   "cell_type": "code",
   "execution_count": null,
   "metadata": {},
   "outputs": [],
   "source": [
    "# take a solution with minimum fitness\n",
    "selected = results.loc[results['fitness'] == results['fitness'].min()]\n",
    "selected"
   ]
  },
  {
   "cell_type": "markdown",
   "metadata": {},
   "source": [
    "Finally, store the results in a CSV for further usage:"
   ]
  },
  {
   "cell_type": "code",
   "execution_count": null,
   "metadata": {
    "scrolled": false
   },
   "outputs": [],
   "source": [
    "# write the results in a csv\n",
    "results.to_csv('results/pso_selected_attributes.csv', index=False)"
   ]
  }
 ],
 "metadata": {
  "kernelspec": {
   "display_name": "Python 3",
   "language": "python",
   "name": "python3"
  },
  "language_info": {
   "codemirror_mode": {
    "name": "ipython",
    "version": 3
   },
   "file_extension": ".py",
   "mimetype": "text/x-python",
   "name": "python",
   "nbconvert_exporter": "python",
   "pygments_lexer": "ipython3",
   "version": "3.7.0"
  }
 },
 "nbformat": 4,
 "nbformat_minor": 2
}
