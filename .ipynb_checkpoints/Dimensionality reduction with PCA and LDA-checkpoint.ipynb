{
 "cells": [
  {
   "cell_type": "code",
   "execution_count": null,
   "metadata": {},
   "outputs": [],
   "source": [
    "import pandas as pd\n",
    "# Load the original dataset\n",
    "dataset = pd.read_csv('datasets/new_dataset_covertype.csv')\n",
    "# Preview\n",
    "dataset.head()"
   ]
  },
  {
   "cell_type": "code",
   "execution_count": null,
   "metadata": {},
   "outputs": [],
   "source": [
    "# Separate descriptors (data) from targets\n",
    "data = dataset.drop('cover_type', axis=1, inplace=False).values\n",
    "targets = dataset['cover_type'].values\n",
    "# Print info\n",
    "print(\"Data size: \" + str(data.shape))\n",
    "print(\"Target size: \" + str(targets.shape))"
   ]
  },
  {
   "cell_type": "code",
   "execution_count": null,
   "metadata": {},
   "outputs": [],
   "source": [
    "from sklearn.preprocessing import StandardScaler\n",
    "# Standardize data\n",
    "data = StandardScaler().fit_transform(data)\n",
    "# Check head\n",
    "print(data)"
   ]
  },
  {
   "cell_type": "markdown",
   "metadata": {},
   "source": [
    "## PCA"
   ]
  },
  {
   "cell_type": "code",
   "execution_count": null,
   "metadata": {
    "scrolled": false
   },
   "outputs": [],
   "source": [
    "from sklearn.decomposition import PCA\n",
    "\n",
    "# PCA selection rate\n",
    "rates = [75, 85, 95]\n",
    "# Run PCA\n",
    "for rate in rates:\n",
    "    # PCA instance\n",
    "    pca = PCA(rate/100)\n",
    "    # Compute eigenvectors and transform data\n",
    "    principal_components = pca.fit_transform(data)\n",
    "    # Make a DataFrame of principal components\n",
    "    result_pca_df = pd.DataFrame(data=principal_components)\n",
    "    # Concatenate with the targets\n",
    "    final_pca_df = pd.concat([result_pca_df,targets], axis=1)\n",
    "    # Save the dataset\n",
    "    #final_pca_df.to_csv('results/pca_' + str(rate) + '.csv')"
   ]
  },
  {
   "cell_type": "markdown",
   "metadata": {},
   "source": [
    "## LDA"
   ]
  },
  {
   "cell_type": "code",
   "execution_count": 30,
   "metadata": {},
   "outputs": [
    {
     "name": "stderr",
     "output_type": "stream",
     "text": [
      "/home/vitorgreati/miniconda3/envs/ia/lib/python3.7/site-packages/sklearn/discriminant_analysis.py:442: UserWarning: The priors do not sum to 1. Renormalizing\n",
      "  UserWarning)\n",
      "/home/vitorgreati/miniconda3/envs/ia/lib/python3.7/site-packages/sklearn/discriminant_analysis.py:388: UserWarning: Variables are collinear.\n",
      "  warnings.warn(\"Variables are collinear.\")\n"
     ]
    },
    {
     "data": {
      "text/plain": [
       "LinearDiscriminantAnalysis(n_components=None, priors=None, shrinkage=None,\n",
       "              solver='svd', store_covariance=False, tol=0.0001)"
      ]
     },
     "execution_count": 30,
     "metadata": {},
     "output_type": "execute_result"
    }
   ],
   "source": [
    "from sklearn.discriminant_analysis import LinearDiscriminantAnalysis\n",
    "\n",
    "# Create LDA instance\n",
    "lda = LinearDiscriminantAnalysis()\n",
    "# Fit LDA\n",
    "lda.fit(data, targets)\n",
    "# Save extracted attributes\n",
    "# lda.to_csv('results/lda.csv')"
   ]
  }
 ],
 "metadata": {
  "kernelspec": {
   "display_name": "Python 3",
   "language": "python",
   "name": "python3"
  },
  "language_info": {
   "codemirror_mode": {
    "name": "ipython",
    "version": 3
   },
   "file_extension": ".py",
   "mimetype": "text/x-python",
   "name": "python",
   "nbconvert_exporter": "python",
   "pygments_lexer": "ipython3",
   "version": "3.7.0"
  }
 },
 "nbformat": 4,
 "nbformat_minor": 2
}
