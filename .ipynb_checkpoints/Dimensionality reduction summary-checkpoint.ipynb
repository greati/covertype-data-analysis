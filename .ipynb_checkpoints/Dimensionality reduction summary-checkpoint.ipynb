{
 "cells": [
  {
   "cell_type": "markdown",
   "metadata": {},
   "source": [
    "# Dimensionality reduction: Summary\n",
    "\n",
    "\n",
    "The table below summarizes the results of the k-NN executions according to each dimensionality reduction\n",
    "strategy applied up to now in this work:\n",
    "\n",
    "\n",
    "| Method                      | Parameters                                                                                           | Number of attributes | k-NN accuracy (%) |\n",
    "|----------------------------------------|-------------------------------------------------------------------------------------------------------------------|----------------------|-------------------|\n",
    "| None                        | -                                                                                                    | 54                   | 81.69             |\n",
    "| Particle Swarm Optimization | Swarm size = 25;<br/> Max iterations = 50                                                                  | 33                   | 81.21             |\n",
    "| Genetic Algorithm           |  Population size = 25;<br/>Max generations = 50;<br/>Combination probability = 0.7;<br/> Mutation probability = 0.05 | 13                   | 73.86             |\n",
    "\n"
   ]
  }
 ],
 "metadata": {
  "kernelspec": {
   "display_name": "Python 3",
   "language": "python",
   "name": "python3"
  },
  "language_info": {
   "codemirror_mode": {
    "name": "ipython",
    "version": 3
   },
   "file_extension": ".py",
   "mimetype": "text/x-python",
   "name": "python",
   "nbconvert_exporter": "python",
   "pygments_lexer": "ipython3",
   "version": "3.7.0"
  }
 },
 "nbformat": 4,
 "nbformat_minor": 2
}
