{
 "cells": [
  {
   "cell_type": "markdown",
   "metadata": {},
   "source": [
    "# Knowing the Covertype dataset\n",
    "\n",
    "## Description\n",
    "\n",
    "The Covertype dataset aims to provide cartographic variables (no remotely sensed data) for predicting forest cover types. Data is about four wilderness areas located in the Roosevelt National Forest of northern Colorado, whose cover types are more a result of ecological processes rather than human-caused disturbances.\n",
    "\n",
    "The original dataset contains 12 attributes (10 quantitative, 2 qualitative), but the collected data is organized in 54 columns, where 10 correspond to the quantitative variables, 4 are binary for encoding wilderness areas and 40 are also binary for encoding the soil type. A more detailed description is given in the table below:\n",
    "\n",
    "| Attribute name           | Type             | Measurement    | Description                          |\n",
    "| ------------------------ |:-----------------|:---------------|-------------------------------------:|\n",
    "| elevation                | quantitative     | meters         | Elevation in meters                  |\n",
    "| aspect                   | quantitative     | azimuth        | Aspect in degress azimuth            |\n",
    "| slope                    | quantitative     | degrees        | Slope in degress                     |\n",
    "| horiz_dist_hydro         | quantitative     | meters         | Horiz. Dist. to nearest surface water|    \n",
    "| vert_dist_hydro          | quantitative     | meters         | Vert. Dist. to nearest surface water |    \n",
    "| horiz_dist_road          | quantitative     | meters         | Horiz. Dist. to nearest roadway      |    \n",
    "| hillshade_9              | quantitative     | 0 to 255 index | Hillshade index at 9am, summer solstice|\n",
    "| hillshade_noon              | quantitative     | 0 to 255 index | Hillshade index at noon, summer solstice|\n",
    "| hillshade_15              | quantitative     | 0 to 255 index | Hillshade index at 3pm, summer solstice|\n",
    "| horiz_dist_fire          | quantitative     | meters         | Horiz. Dist. to nearest wildfire ignition points |    \n",
    "| wild_area[0-4]           | qualitative      | binary         | Wilderness area designation          |\n",
    "| soil_type[0-39]          | qualitative      | binary         | Soil type designation                |\n",
    "| cover_type               | integer          | 1 to 7         | Forest cover type designation        |\n",
    "\n",
    "The classification problem involved consists in classifying the forest cover into seven types:\n",
    "\n",
    "| Number | Type |           |\n",
    "| -------|------|-----------|\n",
    "| 1      | Spruce/Fir|<img src=\"imgs/spruce.jpg\" width=\"150px\" height=\"150px\"/>|\n",
    "| 2      | Lodgepole Pine|<img src=\"imgs/lodge.jpg\" width=\"150px\" height=\"150px\"/>|\n",
    "| 3      | Ponderosa Pine|<img src=\"imgs/ponderosa.jpg\" width=\"150px\" height=\"150px\"/>|\n",
    "| 4      | Cottonwood/Willow|<img src=\"imgs/cottonwood.jpg\" width=\"150px\" height=\"150px\"/>|\n",
    "| 5      | Aspen|<img src=\"imgs/aspen.jpg\" width=\"150px\" height=\"150px\"/>|\n",
    "| 6      | Douglas-fir|<img src=\"imgs/douglas.jpg\" width=\"150px\" height=\"150px\"/>|\n",
    "| 7      | Krummholz|<img src=\"imgs/krumm.jpg\" width=\"150px\" height=\"150px\"/>|\n",
    "\n",
    "\n",
    "## Loading and improving columns description\n",
    "\n",
    "Below is the code for loading and previewing the raw dataset using the `pandas` library:"
   ]
  },
  {
   "cell_type": "code",
   "execution_count": null,
   "metadata": {},
   "outputs": [],
   "source": [
    "import pandas as pd\n",
    "# read data as csv\n",
    "dataset = pd.read_csv(\"dataset/covtype.data\", header=None)\n",
    "# preview the five first lines\n",
    "dataset.head()"
   ]
  },
  {
   "cell_type": "markdown",
   "metadata": {},
   "source": [
    "Notice that the header doesn't exist in the original dataset, so the column indexing must be done only with integers. It is possible to improve this by changing the column indices to a more readable form:"
   ]
  },
  {
   "cell_type": "code",
   "execution_count": null,
   "metadata": {},
   "outputs": [],
   "source": [
    "# list of column names\n",
    "column_names = [\"elevation\", \"aspect\", \"slope\", \"horiz_dist_hydro\", \"vert_dist_hydro\", \\\n",
    "                \"horiz_dist_road\", \"hillshade_9\", \"hill_shade_noon\", \"hill_shade_15\", \"horiz_dist_fire\"] \\\n",
    "                + [\"wild_area_\" + str(i) for i in range(0,4)] \\\n",
    "                + [\"soil_type_\" + str(i) for i in range(0,40)] \\\n",
    "                + [\"cover_type\"]\n",
    "# change column names in dataframe\n",
    "dataset.columns = column_names\n",
    "# confirm the dataset size\n",
    "print(\"Dataset shape: \" + str(dataset.shape))\n",
    "# check the resulting dataset with column names\n",
    "dataset.head()"
   ]
  },
  {
   "cell_type": "code",
   "execution_count": null,
   "metadata": {},
   "outputs": [],
   "source": []
  }
 ],
 "metadata": {
  "kernelspec": {
   "display_name": "Python 3",
   "language": "python",
   "name": "python3"
  },
  "language_info": {
   "codemirror_mode": {
    "name": "ipython",
    "version": 3
   },
   "file_extension": ".py",
   "mimetype": "text/x-python",
   "name": "python",
   "nbconvert_exporter": "python",
   "pygments_lexer": "ipython3",
   "version": "3.7.0"
  }
 },
 "nbformat": 4,
 "nbformat_minor": 2
}
