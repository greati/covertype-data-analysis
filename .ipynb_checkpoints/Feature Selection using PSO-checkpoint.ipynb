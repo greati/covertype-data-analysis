{
 "cells": [
  {
   "cell_type": "markdown",
   "metadata": {},
   "source": [
    "# Feature Selection using Particle Swarm Optimization (PSO)\n",
    "\n",
    "The search space for this problem corresponds to the power set of the set of the 54 attributes, which means\n",
    "$2^{54}$ possibilities. Denote such space by $\\mathcal{S}$. A local search algorithm can seek the desired subset of attributes without having\n",
    "to pass through each of the elements in this colossus space.\n",
    "\n",
    "Before submitting this problem to the PSO algorithm, it is necessary to define the way solutions (subsets) will\n",
    "be represented and the function to rank the solutions, also known as the fitness function."
   ]
  },
  {
   "cell_type": "markdown",
   "metadata": {},
   "source": [
    "## Solutions representation\n",
    "\n",
    "For this problem, a solution $i$ will be represented by a vector $x^i \\in [0,1]^{54}$, in which each component $j$, $x^i_j$, means the probability of selecting the corresponding attribute $j$. Denote $[0,1]^{53}$ by $\\mathcal{S_2}$. A threshold $0 \\leq \\theta \\leq 1$ defines \n",
    "if the attribute was selected or not: $x^i_j \\geq \\theta$ means that the attribute $j$ is selected in the solution $i$,\n",
    "as implemented by the simple function below:"
   ]
  },
  {
   "cell_type": "code",
   "execution_count": 88,
   "metadata": {},
   "outputs": [],
   "source": [
    "def is_selected(xij, theta):\n",
    "    '''\n",
    "    Determines if attribute j in solution i was selected\n",
    "    based on the value on position j of vector x^i.\n",
    "    '''\n",
    "    return xij >= theta"
   ]
  },
  {
   "cell_type": "markdown",
   "metadata": {},
   "source": [
    "## Fitness function\n",
    "\n",
    "This function will rank each solution according to the objective of selecting the most appropriate attribute for this classification problem. Since the purpose is to determine the class of an instance based on the attribute values, the similarity measure of correlation will be applied here. Correlation between two random variables $X,Y$ is given by the\n",
    "equation:\n",
    "\n",
    "$$\n",
    "corr(X,Y) = \\frac{cov(X,Y)}{\\sigma_X\\sigma_Y}\n",
    "$$\n",
    "\n",
    "where $cov(X,Y)$ is the covariance between X and Y. Also, an importance will be given to larger sets, in order to avoid losing solutions with potentially more information. In this way, the fitness function is defined as a weighted sum of the minimum\n",
    "of the correlations between each selected atribute and the class with the number of selected attributes. In other words, the fitness function $f:\\mathcal{S_2}\\to\\mathbb{R}$ is given by the equation:\n",
    "\n",
    "$$\n",
    "f(x^i) = 0.8 \\times \\min_{x^i_j = 1} |corr(x^i_j,cover\\_type)| + 0.2 \\times \\eta_{[-1,1]}(\\sum_{x^i_j=1} 1)\n",
    "$$\n",
    "\n",
    "where $\\eta_{[-1,1]}$ normalizes its argument in the interval $[-1,1]$."
   ]
  },
  {
   "cell_type": "markdown",
   "metadata": {},
   "source": [
    "## Implementation\n",
    "\n",
    "First of all, it is necessary to load the dataset:"
   ]
  },
  {
   "cell_type": "code",
   "execution_count": 89,
   "metadata": {},
   "outputs": [
    {
     "data": {
      "text/html": [
       "<div>\n",
       "<style scoped>\n",
       "    .dataframe tbody tr th:only-of-type {\n",
       "        vertical-align: middle;\n",
       "    }\n",
       "\n",
       "    .dataframe tbody tr th {\n",
       "        vertical-align: top;\n",
       "    }\n",
       "\n",
       "    .dataframe thead th {\n",
       "        text-align: right;\n",
       "    }\n",
       "</style>\n",
       "<table border=\"1\" class=\"dataframe\">\n",
       "  <thead>\n",
       "    <tr style=\"text-align: right;\">\n",
       "      <th></th>\n",
       "      <th>Unnamed: 0</th>\n",
       "      <th>elevation</th>\n",
       "      <th>aspect</th>\n",
       "      <th>slope</th>\n",
       "      <th>horiz_dist_hydro</th>\n",
       "      <th>vert_dist_hydro</th>\n",
       "      <th>horiz_dist_road</th>\n",
       "      <th>hillshade_9</th>\n",
       "      <th>hill_shade_noon</th>\n",
       "      <th>hill_shade_15</th>\n",
       "      <th>...</th>\n",
       "      <th>soil_type_31</th>\n",
       "      <th>soil_type_32</th>\n",
       "      <th>soil_type_33</th>\n",
       "      <th>soil_type_34</th>\n",
       "      <th>soil_type_35</th>\n",
       "      <th>soil_type_36</th>\n",
       "      <th>soil_type_37</th>\n",
       "      <th>soil_type_38</th>\n",
       "      <th>soil_type_39</th>\n",
       "      <th>cover_type</th>\n",
       "    </tr>\n",
       "  </thead>\n",
       "  <tbody>\n",
       "    <tr>\n",
       "      <th>0</th>\n",
       "      <td>67445</td>\n",
       "      <td>3254</td>\n",
       "      <td>75</td>\n",
       "      <td>7</td>\n",
       "      <td>365</td>\n",
       "      <td>49</td>\n",
       "      <td>3034</td>\n",
       "      <td>228</td>\n",
       "      <td>228</td>\n",
       "      <td>133</td>\n",
       "      <td>...</td>\n",
       "      <td>0</td>\n",
       "      <td>0</td>\n",
       "      <td>0</td>\n",
       "      <td>0</td>\n",
       "      <td>0</td>\n",
       "      <td>0</td>\n",
       "      <td>0</td>\n",
       "      <td>0</td>\n",
       "      <td>1</td>\n",
       "      <td>1</td>\n",
       "    </tr>\n",
       "    <tr>\n",
       "      <th>1</th>\n",
       "      <td>128508</td>\n",
       "      <td>3149</td>\n",
       "      <td>341</td>\n",
       "      <td>16</td>\n",
       "      <td>216</td>\n",
       "      <td>30</td>\n",
       "      <td>3241</td>\n",
       "      <td>186</td>\n",
       "      <td>215</td>\n",
       "      <td>167</td>\n",
       "      <td>...</td>\n",
       "      <td>0</td>\n",
       "      <td>0</td>\n",
       "      <td>0</td>\n",
       "      <td>0</td>\n",
       "      <td>0</td>\n",
       "      <td>0</td>\n",
       "      <td>0</td>\n",
       "      <td>0</td>\n",
       "      <td>0</td>\n",
       "      <td>1</td>\n",
       "    </tr>\n",
       "    <tr>\n",
       "      <th>2</th>\n",
       "      <td>75226</td>\n",
       "      <td>2972</td>\n",
       "      <td>321</td>\n",
       "      <td>10</td>\n",
       "      <td>150</td>\n",
       "      <td>13</td>\n",
       "      <td>4796</td>\n",
       "      <td>194</td>\n",
       "      <td>230</td>\n",
       "      <td>176</td>\n",
       "      <td>...</td>\n",
       "      <td>0</td>\n",
       "      <td>0</td>\n",
       "      <td>0</td>\n",
       "      <td>0</td>\n",
       "      <td>0</td>\n",
       "      <td>0</td>\n",
       "      <td>0</td>\n",
       "      <td>0</td>\n",
       "      <td>0</td>\n",
       "      <td>1</td>\n",
       "    </tr>\n",
       "    <tr>\n",
       "      <th>3</th>\n",
       "      <td>526081</td>\n",
       "      <td>3097</td>\n",
       "      <td>265</td>\n",
       "      <td>21</td>\n",
       "      <td>430</td>\n",
       "      <td>60</td>\n",
       "      <td>3290</td>\n",
       "      <td>162</td>\n",
       "      <td>244</td>\n",
       "      <td>218</td>\n",
       "      <td>...</td>\n",
       "      <td>0</td>\n",
       "      <td>0</td>\n",
       "      <td>0</td>\n",
       "      <td>0</td>\n",
       "      <td>0</td>\n",
       "      <td>0</td>\n",
       "      <td>0</td>\n",
       "      <td>0</td>\n",
       "      <td>0</td>\n",
       "      <td>1</td>\n",
       "    </tr>\n",
       "    <tr>\n",
       "      <th>4</th>\n",
       "      <td>399807</td>\n",
       "      <td>3321</td>\n",
       "      <td>286</td>\n",
       "      <td>7</td>\n",
       "      <td>660</td>\n",
       "      <td>118</td>\n",
       "      <td>797</td>\n",
       "      <td>201</td>\n",
       "      <td>240</td>\n",
       "      <td>179</td>\n",
       "      <td>...</td>\n",
       "      <td>1</td>\n",
       "      <td>0</td>\n",
       "      <td>0</td>\n",
       "      <td>0</td>\n",
       "      <td>0</td>\n",
       "      <td>0</td>\n",
       "      <td>0</td>\n",
       "      <td>0</td>\n",
       "      <td>0</td>\n",
       "      <td>1</td>\n",
       "    </tr>\n",
       "  </tbody>\n",
       "</table>\n",
       "<p>5 rows × 56 columns</p>\n",
       "</div>"
      ],
      "text/plain": [
       "   Unnamed: 0  elevation  aspect  slope  horiz_dist_hydro  vert_dist_hydro  \\\n",
       "0       67445       3254      75      7               365               49   \n",
       "1      128508       3149     341     16               216               30   \n",
       "2       75226       2972     321     10               150               13   \n",
       "3      526081       3097     265     21               430               60   \n",
       "4      399807       3321     286      7               660              118   \n",
       "\n",
       "   horiz_dist_road  hillshade_9  hill_shade_noon  hill_shade_15     ...      \\\n",
       "0             3034          228              228            133     ...       \n",
       "1             3241          186              215            167     ...       \n",
       "2             4796          194              230            176     ...       \n",
       "3             3290          162              244            218     ...       \n",
       "4              797          201              240            179     ...       \n",
       "\n",
       "   soil_type_31  soil_type_32  soil_type_33  soil_type_34  soil_type_35  \\\n",
       "0             0             0             0             0             0   \n",
       "1             0             0             0             0             0   \n",
       "2             0             0             0             0             0   \n",
       "3             0             0             0             0             0   \n",
       "4             1             0             0             0             0   \n",
       "\n",
       "   soil_type_36  soil_type_37  soil_type_38  soil_type_39  cover_type  \n",
       "0             0             0             0             1           1  \n",
       "1             0             0             0             0           1  \n",
       "2             0             0             0             0           1  \n",
       "3             0             0             0             0           1  \n",
       "4             0             0             0             0           1  \n",
       "\n",
       "[5 rows x 56 columns]"
      ]
     },
     "execution_count": 89,
     "metadata": {},
     "output_type": "execute_result"
    }
   ],
   "source": [
    "import pandas as pd\n",
    "# read the dataset\n",
    "dataset = pd.read_csv(\"datasets/new_dataset_covertype.csv\")\n",
    "dataset.head()"
   ]
  },
  {
   "cell_type": "markdown",
   "metadata": {},
   "source": [
    "Correlations with respect to the class are fixed values, and can be calculated using the following:"
   ]
  },
  {
   "cell_type": "code",
   "execution_count": 90,
   "metadata": {},
   "outputs": [],
   "source": [
    "# class correlations\n",
    "class_correlations = dataset.corr(method=\"pearson\")['cover_type']"
   ]
  },
  {
   "cell_type": "markdown",
   "metadata": {},
   "source": [
    "Now, define the fitness function by:"
   ]
  },
  {
   "cell_type": "code",
   "execution_count": 91,
   "metadata": {},
   "outputs": [],
   "source": [
    "import numpy as np\n",
    "\n",
    "def f(x, theta=0.8, weights = np.array([0.8,0.2])):\n",
    "    '''\n",
    "    Takes a vector in [0,1]^53 and compute its fitness value.\n",
    "    '''\n",
    "    \n",
    "    def _is_selected(x):\n",
    "        '''\n",
    "        Defines if an attribute was selected given an outside theta.\n",
    "        '''\n",
    "        return is_selected(x, theta)\n",
    "    \n",
    "    selected_attrs = list(map(_is_selected, x))\n",
    "    min_corr = min([class_correlations[i] for i in np.arange(0,dataset.shape[1]-1) if selected_attrs[i]])\n",
    "    count_attrs = (sum(selected_attrs) - (-1))/(1 - (-1))\n",
    "    return np.dot(weights, np.array([min_corr, count_attrs]))"
   ]
  },
  {
   "cell_type": "markdown",
   "metadata": {},
   "source": [
    "The PSO implementation used here comes from the `pyswarm` library:"
   ]
  },
  {
   "cell_type": "code",
   "execution_count": 81,
   "metadata": {},
   "outputs": [
    {
     "name": "stdout",
     "output_type": "stream",
     "text": [
      "Stopping search: maximum iterations reached --> 100\n"
     ]
    }
   ],
   "source": [
    "from pyswarm import pso\n",
    "\n",
    "lb = np.zeros(dataset.shape[1])\n",
    "ub = np.ones(dataset.shape[1])\n",
    "\n",
    "xopt, fopt = pso(f, lb, ub)"
   ]
  },
  {
   "cell_type": "markdown",
   "metadata": {},
   "source": [
    "Now, check which attributes were selected:"
   ]
  },
  {
   "cell_type": "code",
   "execution_count": 92,
   "metadata": {},
   "outputs": [
    {
     "name": "stdout",
     "output_type": "stream",
     "text": [
      "Fitness: 0.7167921772813688\n"
     ]
    },
    {
     "data": {
      "text/plain": [
       "array(['Unnamed: 0', 'horiz_dist_fire', 'soil_type_14', 'soil_type_30',\n",
       "       'soil_type_39'], dtype=object)"
      ]
     },
     "execution_count": 92,
     "metadata": {},
     "output_type": "execute_result"
    }
   ],
   "source": [
    "def _is_selected(x):\n",
    "    return is_selected(x,theta=0.8)\n",
    "\n",
    "print(\"Fitness: \" + str(fopt))\n",
    "\n",
    "selected = dataset.columns[list(map(_is_selected, xopt))]\n",
    "selected.values"
   ]
  },
  {
   "cell_type": "code",
   "execution_count": null,
   "metadata": {},
   "outputs": [],
   "source": []
  }
 ],
 "metadata": {
  "kernelspec": {
   "display_name": "Python 3",
   "language": "python",
   "name": "python3"
  },
  "language_info": {
   "codemirror_mode": {
    "name": "ipython",
    "version": 3
   },
   "file_extension": ".py",
   "mimetype": "text/x-python",
   "name": "python",
   "nbconvert_exporter": "python",
   "pygments_lexer": "ipython3",
   "version": "3.7.0"
  }
 },
 "nbformat": 4,
 "nbformat_minor": 2
}
