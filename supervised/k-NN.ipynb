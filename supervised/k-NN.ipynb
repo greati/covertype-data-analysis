{
 "cells": [
  {
   "cell_type": "markdown",
   "metadata": {},
   "source": [
    "# k-Nearest Neighbors Classifier (k-NN)\n",
    "\n",
    "The k-NN is one of the simplest classifiers in Machine Learning. Differently from other common supervised techniques, it does not perform a **learning**; instead, the algorithm checks the distance between the instance that will be classified and other feature vectors from the dataset. Due to its simplicity, it is often used in benchmarks of complex classifiers, like Artificial Neural Network (**ANN**) and Suport Vector Machine (**SVM**).\n",
    "\n",
    "This notebook shows how the dimensionality reduction algorithms required for this work affects the \n",
    "accuracy of the k-NN classifier in the classification task posed by the Covertype dataset. Sections\n",
    "are organized as follows: first, we import all necessary libraries to run k-NN from the\n",
    "`sklearn` library and load the dataset, separating data from targets; then we load the results\n",
    "datasets and define a function to perform k-NN over them, running also cross-validation\n",
    "to validate the results; finally we compare the performance of the classifier according\n",
    "to each reduced or extracted set of attributes.\n",
    "\n",
    "## Implementation\n",
    "\n",
    "### Import libraries \n",
    "Let's first import the libraries, mainly `pandas`, `numpy` and k-NN implementation from `sklearn`:"
   ]
  },
  {
   "cell_type": "code",
   "execution_count": 27,
   "metadata": {},
   "outputs": [],
   "source": [
    "# Import libraries\n",
    "import pandas as pd\n",
    "import numpy as np\n",
    "from sklearn.neighbors import KNeighborsClassifier\n",
    "from sklearn.model_selection import cross_validate"
   ]
  },
  {
   "cell_type": "markdown",
   "metadata": {},
   "source": [
    "### Loading the datasets\n",
    "\n",
    "Now, load the train and test datasets, taking the targets apart from the features:"
   ]
  },
  {
   "cell_type": "code",
   "execution_count": 28,
   "metadata": {},
   "outputs": [],
   "source": [
    "# Train datasets\n",
    "original_train = pd.read_csv('../datasets/covertype_train.csv')\n",
    "original_norm_train = pd.read_csv('../datasets/covertype_norm_train.csv')\n",
    "lda_train = pd.read_csv('../datasets/covertype_lda_train_raw.csv')\n",
    "lda_norm_train = pd.read_csv('../datasets/covertype_lda_train.csv')\n",
    "\n",
    "# Targets\n",
    "target_original_train = original_train.iloc[:,-1]\n",
    "target_original_norm_train = original_norm_train.iloc[:,-1]\n",
    "target_lda_train = lda_train.iloc[:,-1]\n",
    "target_lda_norm_train = lda_norm_train.iloc[:,-1]\n",
    "\n",
    "# Dataset without classes\n",
    "data_original_train = original_train.iloc[:,:-1]\n",
    "data_original_norm_train = original_norm_train.iloc[:,:-1]\n",
    "data_lda_train = lda_train.iloc[:,:-1]\n",
    "data_lda_norm_train = lda_norm_train.iloc[:,:-1]"
   ]
  },
  {
   "cell_type": "code",
   "execution_count": 3,
   "metadata": {},
   "outputs": [],
   "source": [
    "# Test datasets\n",
    "original_test = pd.read_csv('../datasets/covertype_test.csv')\n",
    "original_norm_test = pd.read_csv('../datasets/covertype_norm_test.csv')\n",
    "lda_test = pd.read_csv('../datasets/covertype_lda_test_raw.csv')\n",
    "lda_norm_test = pd.read_csv('../datasets/covertype_lda_test.csv')\n",
    "\n",
    "# Targets\n",
    "target_original_test = original_test.iloc[:,-1]\n",
    "target_original_norm_test = original_norm_test.iloc[:,-1]\n",
    "target_lda_test = lda_test.iloc[:,-1]\n",
    "target_lda_norm_test = lda_norm_test.iloc[:,-1]\n",
    "\n",
    "# Dataset without classes\n",
    "data_original_test = original_test.iloc[:,:-1]\n",
    "data_original_norm_test = original_norm_test.iloc[:,:-1]\n",
    "data_lda_test = lda_test.iloc[:,:-1]\n",
    "data_lda_norm_test = lda_norm_test.iloc[:,:-1]"
   ]
  },
  {
   "cell_type": "code",
   "execution_count": 25,
   "metadata": {},
   "outputs": [],
   "source": [
    "def perform_knn(train, test, weight):\n",
    "    '''\n",
    "    Performs knn for a given dataset.\n",
    "    '''\n",
    "    \n",
    "    train_target = train['cover_type']\n",
    "    train_data   = train.loc[:, train.columns != 'cover_type']\n",
    "    test_target  = test['cover_type']\n",
    "    test_data    = test.loc[:, test.columns != 'cover_type']\n",
    "    \n",
    "    ks = [1,3,5]\n",
    "    r = []\n",
    "    for k in ks:\n",
    "        knn = KNeighborsClassifier(n_neighbors=k,weights=weight,n_jobs=-1)\n",
    "        result = cross_validate(knn, train_data, train_target, cv=10, return_estimator=True)\n",
    "        r.append( result )       \n",
    "        \n",
    "    return r"
   ]
  },
  {
   "cell_type": "code",
   "execution_count": 26,
   "metadata": {},
   "outputs": [
    {
     "ename": "NameError",
     "evalue": "name 'cross_validate' is not defined",
     "output_type": "error",
     "traceback": [
      "\u001b[0;31m---------------------------------------------------------------------------\u001b[0m",
      "\u001b[0;31mNameError\u001b[0m                                 Traceback (most recent call last)",
      "\u001b[0;32m<ipython-input-26-bbee663ef02a>\u001b[0m in \u001b[0;36m<module>\u001b[0;34m()\u001b[0m\n\u001b[0;32m----> 1\u001b[0;31m \u001b[0mprint\u001b[0m\u001b[0;34m(\u001b[0m\u001b[0mperform_knn\u001b[0m\u001b[0;34m(\u001b[0m\u001b[0moriginal_train\u001b[0m\u001b[0;34m,\u001b[0m \u001b[0moriginal_test\u001b[0m\u001b[0;34m,\u001b[0m \u001b[0;34m'uniform'\u001b[0m\u001b[0;34m)\u001b[0m\u001b[0;34m)\u001b[0m\u001b[0;34m\u001b[0m\u001b[0m\n\u001b[0m\u001b[1;32m      2\u001b[0m \u001b[0;31m#print(perform_knn(original_norm_train, original_norm_test, 'uniform'))\u001b[0m\u001b[0;34m\u001b[0m\u001b[0;34m\u001b[0m\u001b[0m\n\u001b[1;32m      3\u001b[0m \u001b[0;31m#print(perform_knn(lda_train, lda_test, 'uniform'))\u001b[0m\u001b[0;34m\u001b[0m\u001b[0;34m\u001b[0m\u001b[0m\n\u001b[1;32m      4\u001b[0m \u001b[0;31m#print(perform_knn(lda_norm_train, lda_norm_test, 'uniform'))\u001b[0m\u001b[0;34m\u001b[0m\u001b[0;34m\u001b[0m\u001b[0m\n",
      "\u001b[0;32m<ipython-input-25-b9609c7d3433>\u001b[0m in \u001b[0;36mperform_knn\u001b[0;34m(train, test, weight)\u001b[0m\n\u001b[1;32m     13\u001b[0m     \u001b[0;32mfor\u001b[0m \u001b[0mk\u001b[0m \u001b[0;32min\u001b[0m \u001b[0mks\u001b[0m\u001b[0;34m:\u001b[0m\u001b[0;34m\u001b[0m\u001b[0m\n\u001b[1;32m     14\u001b[0m         \u001b[0mknn\u001b[0m \u001b[0;34m=\u001b[0m \u001b[0mKNeighborsClassifier\u001b[0m\u001b[0;34m(\u001b[0m\u001b[0mn_neighbors\u001b[0m\u001b[0;34m=\u001b[0m\u001b[0mk\u001b[0m\u001b[0;34m,\u001b[0m\u001b[0mweights\u001b[0m\u001b[0;34m=\u001b[0m\u001b[0mweight\u001b[0m\u001b[0;34m,\u001b[0m\u001b[0mn_jobs\u001b[0m\u001b[0;34m=\u001b[0m\u001b[0;34m-\u001b[0m\u001b[0;36m1\u001b[0m\u001b[0;34m)\u001b[0m\u001b[0;34m\u001b[0m\u001b[0m\n\u001b[0;32m---> 15\u001b[0;31m         \u001b[0mresult\u001b[0m \u001b[0;34m=\u001b[0m \u001b[0mcross_validate\u001b[0m\u001b[0;34m(\u001b[0m\u001b[0mknn\u001b[0m\u001b[0;34m,\u001b[0m \u001b[0mtrain_data\u001b[0m\u001b[0;34m,\u001b[0m \u001b[0mtrain_target\u001b[0m\u001b[0;34m,\u001b[0m \u001b[0mcv\u001b[0m\u001b[0;34m=\u001b[0m\u001b[0;36m10\u001b[0m\u001b[0;34m,\u001b[0m \u001b[0mreturn_estimator\u001b[0m\u001b[0;34m=\u001b[0m\u001b[0;32mTrue\u001b[0m\u001b[0;34m)\u001b[0m\u001b[0;34m\u001b[0m\u001b[0m\n\u001b[0m\u001b[1;32m     16\u001b[0m         \u001b[0mr\u001b[0m\u001b[0;34m.\u001b[0m\u001b[0mappend\u001b[0m\u001b[0;34m(\u001b[0m \u001b[0mresult\u001b[0m \u001b[0;34m)\u001b[0m\u001b[0;34m\u001b[0m\u001b[0m\n\u001b[1;32m     17\u001b[0m \u001b[0;34m\u001b[0m\u001b[0m\n",
      "\u001b[0;31mNameError\u001b[0m: name 'cross_validate' is not defined"
     ]
    }
   ],
   "source": [
    "print(perform_knn(original_train, original_test, 'uniform'))\n",
    "#print(perform_knn(original_norm_train, original_norm_test, 'uniform'))\n",
    "#print(perform_knn(lda_train, lda_test, 'uniform'))\n",
    "#print(perform_knn(lda_norm_train, lda_norm_test, 'uniform'))"
   ]
  },
  {
   "cell_type": "code",
   "execution_count": null,
   "metadata": {},
   "outputs": [],
   "source": []
  }
 ],
 "metadata": {
  "kernelspec": {
   "display_name": "Python 3",
   "language": "python",
   "name": "python3"
  },
  "language_info": {
   "codemirror_mode": {
    "name": "ipython",
    "version": 3
   },
   "file_extension": ".py",
   "mimetype": "text/x-python",
   "name": "python",
   "nbconvert_exporter": "python",
   "pygments_lexer": "ipython3",
   "version": "3.6.6"
  }
 },
 "nbformat": 4,
 "nbformat_minor": 2
}
