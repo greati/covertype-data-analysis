{
 "cells": [
  {
   "cell_type": "markdown",
   "metadata": {},
   "source": [
    "# k-Nearest Neighbors Classifier (k-NN)\n",
    "\n",
    "The k-NN is one of the simplest classifiers in Machine Learning. Differently from other common supervised techniques, it does not perform a **learning**; instead, the algorithm checks the distance between the instance that will be classified and other feature vectors from the dataset. Due to its simplicity, it is often used in benchmarks of complex classifiers, like Artificial Neural Network (**ANN**) and Suport Vector Machine (**SVM**).\n",
    "\n",
    "This notebook shows how the dimensionality reduction algorithms required for this work affects the \n",
    "accuracy of the k-NN classifier in the classification task posed by the Covertype dataset. Sections\n",
    "are organized as follows: first, we import all necessary libraries to run k-NN from the\n",
    "`sklearn` library and load the dataset, separating data from targets; then we load the results\n",
    "datasets and define a function to perform k-NN over them, running also cross-validation\n",
    "to validate the results; finally we compare the performance of the classifier according\n",
    "to each reduced or extracted set of attributes.\n",
    "\n",
    "## Implementation\n",
    "\n",
    "### Import libraries \n",
    "Let's first import the libraries, mainly `pandas`, `numpy` and k-NN implementation from `sklearn`:"
   ]
  },
  {
   "cell_type": "code",
   "execution_count": 1,
   "metadata": {},
   "outputs": [],
   "source": [
    "# Import libraries\n",
    "import pandas as pd\n",
    "import numpy as np\n",
    "from sklearn.neighbors import KNeighborsClassifier\n",
    "import random"
   ]
  },
  {
   "cell_type": "markdown",
   "metadata": {},
   "source": [
    "### Loading the datasets\n",
    "\n",
    "Now, load the train and test datasets, taking the targets apart from the features:"
   ]
  },
  {
   "cell_type": "code",
   "execution_count": 4,
   "metadata": {},
   "outputs": [],
   "source": [
    "# Train datasets\n",
    "original_train = pd.read_csv('../datasets/covertype_train.csv')\n",
    "original_norm_train = pd.read_csv('../datasets/covertype_norm_train.csv')\n",
    "lda_train = pd.read_csv('../datasets/covertype_lda_train_raw.csv')\n",
    "lda_norm_train = pd.read_csv('../datasets/covertype_lda_train.csv')\n",
    "\n",
    "# Targets\n",
    "target_original_train = original_train.iloc[:,-1]\n",
    "target_original_norm_train = original_norm_train.iloc[:,-1]\n",
    "target_lda_train = lda_train.iloc[:,-1]\n",
    "target_lda_norm_train = lda_norm_train.iloc[:,-1]\n",
    "\n",
    "# Dataset without classes\n",
    "data_original_train = original_train.iloc[:,:-1]\n",
    "data_original_norm_train = original_norm_train.iloc[:,:-1]\n",
    "data_lda_train = lda_train.iloc[:,:-1]\n",
    "data_lda_norm_train = lda_norm_train.iloc[:,:-1]"
   ]
  },
  {
   "cell_type": "code",
   "execution_count": null,
   "metadata": {},
   "outputs": [],
   "source": []
  }
 ],
 "metadata": {
  "kernelspec": {
   "display_name": "Python 3",
   "language": "python",
   "name": "python3"
  },
  "language_info": {
   "codemirror_mode": {
    "name": "ipython",
    "version": 3
   },
   "file_extension": ".py",
   "mimetype": "text/x-python",
   "name": "python",
   "nbconvert_exporter": "python",
   "pygments_lexer": "ipython3",
   "version": "3.6.6"
  }
 },
 "nbformat": 4,
 "nbformat_minor": 2
}
