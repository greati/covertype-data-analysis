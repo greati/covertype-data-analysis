{
 "cells": [
  {
   "cell_type": "code",
   "execution_count": 1,
   "metadata": {},
   "outputs": [],
   "source": [
    "# Import libraries\n",
    "import pandas as pd\n",
    "import numpy as np\n",
    "from sklearn.neural_network import MLPClassifier\n",
    "from sklearn.model_selection import cross_validate"
   ]
  },
  {
   "cell_type": "code",
   "execution_count": 2,
   "metadata": {},
   "outputs": [],
   "source": [
    "# Train datasets\n",
    "original_train = pd.read_csv('../datasets/covertype_train.csv')\n",
    "original_norm_train = pd.read_csv('../datasets/covertype_norm_train.csv')\n",
    "lda_train = pd.read_csv('../datasets/covertype_lda_train_raw.csv')\n",
    "lda_norm_train = pd.read_csv('../datasets/covertype_lda_train.csv')\n",
    "\n",
    "# Targets\n",
    "target_original_train = original_train.iloc[:,-1]\n",
    "target_original_norm_train = original_norm_train.iloc[:,-1]\n",
    "target_lda_train = lda_train.iloc[:,-1]\n",
    "target_lda_norm_train = lda_norm_train.iloc[:,-1]\n",
    "\n",
    "# Dataset without classes\n",
    "data_original_train = original_train.iloc[:,:-1]\n",
    "data_original_norm_train = original_norm_train.iloc[:,:-1]\n",
    "data_lda_train = lda_train.iloc[:,:-1]\n",
    "data_lda_norm_train = lda_norm_train.iloc[:,:-1]"
   ]
  },
  {
   "cell_type": "code",
   "execution_count": 3,
   "metadata": {},
   "outputs": [],
   "source": [
    "# Test datasets\n",
    "original_test = pd.read_csv('../datasets/covertype_test.csv')\n",
    "original_norm_test = pd.read_csv('../datasets/covertype_norm_test.csv')\n",
    "lda_test = pd.read_csv('../datasets/covertype_lda_test_raw.csv')\n",
    "lda_norm_test = pd.read_csv('../datasets/covertype_lda_test.csv')\n",
    "\n",
    "# Targets\n",
    "target_original_test = original_test.iloc[:,-1]\n",
    "target_original_norm_test = original_norm_test.iloc[:,-1]\n",
    "target_lda_test = lda_test.iloc[:,-1]\n",
    "target_lda_norm_test = lda_norm_test.iloc[:,-1]\n",
    "\n",
    "# Dataset without classes\n",
    "data_original_test = original_test.iloc[:,:-1]\n",
    "data_original_norm_test = original_norm_test.iloc[:,:-1]\n",
    "data_lda_test = lda_test.iloc[:,:-1]\n",
    "data_lda_norm_test = lda_norm_test.iloc[:,:-1]"
   ]
  },
  {
   "cell_type": "code",
   "execution_count": 14,
   "metadata": {},
   "outputs": [],
   "source": [
    "def perform_mlp(train, test):\n",
    "    '''\n",
    "    Performs mlp for a given dataset.\n",
    "    '''\n",
    "    \n",
    "    train_target = train['cover_type']\n",
    "    train_data   = train.loc[:, train.columns != 'cover_type']\n",
    "    test_target  = test['cover_type']\n",
    "    test_data    = test.loc[:, test.columns != 'cover_type']\n",
    "    \n",
    "    momentum = 0.8\n",
    "    max_iter = [100, 1000, 10000]\n",
    "    learning_rates = [0.9, 0.09, 0.009]\n",
    "    start_n_neurons = (len(train.columns.tolist()) - 1 + 7) // 2\n",
    "    n_neurons = [start_n_neurons, round(start_n_neurons * 1.5), round(start_n_neurons * 2)]\n",
    "    \n",
    "    r = []\n",
    "    for it in max_iter:\n",
    "        for rate in learning_rates:\n",
    "            for neuron in n_neurons:\n",
    "                print('[INFO]...max_iter=', it, ',learning_rate=', rate, ',n_neurons=', neuron)\n",
    "                mlp = MLPClassifier(random_state=0,momentum=momentum,max_iter=it,learning_rate_init=rate,hidden_layer_sizes=(neuron,1))\n",
    "                result = cross_validate(mlp, train_data, train_target, cv=2, return_estimator=True)\n",
    "                acc_best = 0\n",
    "                best_estimator = result['estimator'][0]\n",
    "\n",
    "                for estimator in result['estimator']:\n",
    "                    score = estimator.score(test_data, test_target)\n",
    "                    if score > acc_best:\n",
    "                        acc_best = score\n",
    "                        best_estimator = estimator\n",
    "                \n",
    "                r.append( [ acc_best, best_estimator ] )\n",
    "    return r"
   ]
  },
  {
   "cell_type": "code",
   "execution_count": 15,
   "metadata": {},
   "outputs": [
    {
     "name": "stdout",
     "output_type": "stream",
     "text": [
      "[INFO]...max_iter= 100 ,learning_rate= 0.9 ,n_neurons= 30\n",
      "[INFO]...max_iter= 100 ,learning_rate= 0.9 ,n_neurons= 45\n",
      "[INFO]...max_iter= 100 ,learning_rate= 0.9 ,n_neurons= 60\n",
      "[INFO]...max_iter= 100 ,learning_rate= 0.09 ,n_neurons= 30\n",
      "[INFO]...max_iter= 100 ,learning_rate= 0.09 ,n_neurons= 45\n",
      "[INFO]...max_iter= 100 ,learning_rate= 0.09 ,n_neurons= 60\n",
      "[INFO]...max_iter= 100 ,learning_rate= 0.009 ,n_neurons= 30\n",
      "[INFO]...max_iter= 100 ,learning_rate= 0.009 ,n_neurons= 45\n",
      "[INFO]...max_iter= 100 ,learning_rate= 0.009 ,n_neurons= 60\n",
      "[INFO]...max_iter= 1000 ,learning_rate= 0.9 ,n_neurons= 30\n",
      "[INFO]...max_iter= 1000 ,learning_rate= 0.9 ,n_neurons= 45\n",
      "[INFO]...max_iter= 1000 ,learning_rate= 0.9 ,n_neurons= 60\n",
      "[INFO]...max_iter= 1000 ,learning_rate= 0.09 ,n_neurons= 30\n",
      "[INFO]...max_iter= 1000 ,learning_rate= 0.09 ,n_neurons= 45\n",
      "[INFO]...max_iter= 1000 ,learning_rate= 0.09 ,n_neurons= 60\n",
      "[INFO]...max_iter= 1000 ,learning_rate= 0.009 ,n_neurons= 30\n",
      "[INFO]...max_iter= 1000 ,learning_rate= 0.009 ,n_neurons= 45\n",
      "[INFO]...max_iter= 1000 ,learning_rate= 0.009 ,n_neurons= 60\n",
      "[INFO]...max_iter= 10000 ,learning_rate= 0.9 ,n_neurons= 30\n",
      "[INFO]...max_iter= 10000 ,learning_rate= 0.9 ,n_neurons= 45\n",
      "[INFO]...max_iter= 10000 ,learning_rate= 0.9 ,n_neurons= 60\n",
      "[INFO]...max_iter= 10000 ,learning_rate= 0.09 ,n_neurons= 30\n",
      "[INFO]...max_iter= 10000 ,learning_rate= 0.09 ,n_neurons= 45\n",
      "[INFO]...max_iter= 10000 ,learning_rate= 0.09 ,n_neurons= 60\n",
      "[INFO]...max_iter= 10000 ,learning_rate= 0.009 ,n_neurons= 30\n",
      "[INFO]...max_iter= 10000 ,learning_rate= 0.009 ,n_neurons= 45\n",
      "[INFO]...max_iter= 10000 ,learning_rate= 0.009 ,n_neurons= 60\n",
      "[INFO]...max_iter= 100 ,learning_rate= 0.9 ,n_neurons= 30\n",
      "[INFO]...max_iter= 100 ,learning_rate= 0.9 ,n_neurons= 45\n",
      "[INFO]...max_iter= 100 ,learning_rate= 0.9 ,n_neurons= 60\n",
      "[INFO]...max_iter= 100 ,learning_rate= 0.09 ,n_neurons= 30\n",
      "[INFO]...max_iter= 100 ,learning_rate= 0.09 ,n_neurons= 45\n",
      "[INFO]...max_iter= 100 ,learning_rate= 0.09 ,n_neurons= 60\n",
      "[INFO]...max_iter= 100 ,learning_rate= 0.009 ,n_neurons= 30\n"
     ]
    },
    {
     "name": "stderr",
     "output_type": "stream",
     "text": [
      "/home/vinihcampos/miniconda3/envs/covertype/lib/python3.6/site-packages/sklearn/neural_network/multilayer_perceptron.py:562: ConvergenceWarning: Stochastic Optimizer: Maximum iterations (100) reached and the optimization hasn't converged yet.\n",
      "  % self.max_iter, ConvergenceWarning)\n",
      "/home/vinihcampos/miniconda3/envs/covertype/lib/python3.6/site-packages/sklearn/neural_network/multilayer_perceptron.py:562: ConvergenceWarning: Stochastic Optimizer: Maximum iterations (100) reached and the optimization hasn't converged yet.\n",
      "  % self.max_iter, ConvergenceWarning)\n"
     ]
    },
    {
     "name": "stdout",
     "output_type": "stream",
     "text": [
      "[INFO]...max_iter= 100 ,learning_rate= 0.009 ,n_neurons= 45\n"
     ]
    },
    {
     "name": "stderr",
     "output_type": "stream",
     "text": [
      "/home/vinihcampos/miniconda3/envs/covertype/lib/python3.6/site-packages/sklearn/neural_network/multilayer_perceptron.py:562: ConvergenceWarning: Stochastic Optimizer: Maximum iterations (100) reached and the optimization hasn't converged yet.\n",
      "  % self.max_iter, ConvergenceWarning)\n",
      "/home/vinihcampos/miniconda3/envs/covertype/lib/python3.6/site-packages/sklearn/neural_network/multilayer_perceptron.py:562: ConvergenceWarning: Stochastic Optimizer: Maximum iterations (100) reached and the optimization hasn't converged yet.\n",
      "  % self.max_iter, ConvergenceWarning)\n"
     ]
    },
    {
     "name": "stdout",
     "output_type": "stream",
     "text": [
      "[INFO]...max_iter= 100 ,learning_rate= 0.009 ,n_neurons= 60\n",
      "[INFO]...max_iter= 1000 ,learning_rate= 0.9 ,n_neurons= 30\n",
      "[INFO]...max_iter= 1000 ,learning_rate= 0.9 ,n_neurons= 45\n",
      "[INFO]...max_iter= 1000 ,learning_rate= 0.9 ,n_neurons= 60\n",
      "[INFO]...max_iter= 1000 ,learning_rate= 0.09 ,n_neurons= 30\n",
      "[INFO]...max_iter= 1000 ,learning_rate= 0.09 ,n_neurons= 45\n",
      "[INFO]...max_iter= 1000 ,learning_rate= 0.09 ,n_neurons= 60\n",
      "[INFO]...max_iter= 1000 ,learning_rate= 0.009 ,n_neurons= 30\n",
      "[INFO]...max_iter= 1000 ,learning_rate= 0.009 ,n_neurons= 45\n",
      "[INFO]...max_iter= 1000 ,learning_rate= 0.009 ,n_neurons= 60\n",
      "[INFO]...max_iter= 10000 ,learning_rate= 0.9 ,n_neurons= 30\n",
      "[INFO]...max_iter= 10000 ,learning_rate= 0.9 ,n_neurons= 45\n",
      "[INFO]...max_iter= 10000 ,learning_rate= 0.9 ,n_neurons= 60\n",
      "[INFO]...max_iter= 10000 ,learning_rate= 0.09 ,n_neurons= 30\n",
      "[INFO]...max_iter= 10000 ,learning_rate= 0.09 ,n_neurons= 45\n",
      "[INFO]...max_iter= 10000 ,learning_rate= 0.09 ,n_neurons= 60\n",
      "[INFO]...max_iter= 10000 ,learning_rate= 0.009 ,n_neurons= 30\n",
      "[INFO]...max_iter= 10000 ,learning_rate= 0.009 ,n_neurons= 45\n",
      "[INFO]...max_iter= 10000 ,learning_rate= 0.009 ,n_neurons= 60\n",
      "[INFO]...max_iter= 100 ,learning_rate= 0.9 ,n_neurons= 6\n",
      "[INFO]...max_iter= 100 ,learning_rate= 0.9 ,n_neurons= 9\n",
      "[INFO]...max_iter= 100 ,learning_rate= 0.9 ,n_neurons= 12\n",
      "[INFO]...max_iter= 100 ,learning_rate= 0.09 ,n_neurons= 6\n",
      "[INFO]...max_iter= 100 ,learning_rate= 0.09 ,n_neurons= 9\n",
      "[INFO]...max_iter= 100 ,learning_rate= 0.09 ,n_neurons= 12\n",
      "[INFO]...max_iter= 100 ,learning_rate= 0.009 ,n_neurons= 6\n"
     ]
    },
    {
     "name": "stderr",
     "output_type": "stream",
     "text": [
      "/home/vinihcampos/miniconda3/envs/covertype/lib/python3.6/site-packages/sklearn/neural_network/multilayer_perceptron.py:562: ConvergenceWarning: Stochastic Optimizer: Maximum iterations (100) reached and the optimization hasn't converged yet.\n",
      "  % self.max_iter, ConvergenceWarning)\n",
      "/home/vinihcampos/miniconda3/envs/covertype/lib/python3.6/site-packages/sklearn/neural_network/multilayer_perceptron.py:562: ConvergenceWarning: Stochastic Optimizer: Maximum iterations (100) reached and the optimization hasn't converged yet.\n",
      "  % self.max_iter, ConvergenceWarning)\n"
     ]
    },
    {
     "name": "stdout",
     "output_type": "stream",
     "text": [
      "[INFO]...max_iter= 100 ,learning_rate= 0.009 ,n_neurons= 9\n"
     ]
    },
    {
     "name": "stderr",
     "output_type": "stream",
     "text": [
      "/home/vinihcampos/miniconda3/envs/covertype/lib/python3.6/site-packages/sklearn/neural_network/multilayer_perceptron.py:562: ConvergenceWarning: Stochastic Optimizer: Maximum iterations (100) reached and the optimization hasn't converged yet.\n",
      "  % self.max_iter, ConvergenceWarning)\n",
      "/home/vinihcampos/miniconda3/envs/covertype/lib/python3.6/site-packages/sklearn/neural_network/multilayer_perceptron.py:562: ConvergenceWarning: Stochastic Optimizer: Maximum iterations (100) reached and the optimization hasn't converged yet.\n",
      "  % self.max_iter, ConvergenceWarning)\n"
     ]
    },
    {
     "name": "stdout",
     "output_type": "stream",
     "text": [
      "[INFO]...max_iter= 100 ,learning_rate= 0.009 ,n_neurons= 12\n"
     ]
    },
    {
     "name": "stderr",
     "output_type": "stream",
     "text": [
      "/home/vinihcampos/miniconda3/envs/covertype/lib/python3.6/site-packages/sklearn/neural_network/multilayer_perceptron.py:562: ConvergenceWarning: Stochastic Optimizer: Maximum iterations (100) reached and the optimization hasn't converged yet.\n",
      "  % self.max_iter, ConvergenceWarning)\n"
     ]
    },
    {
     "name": "stdout",
     "output_type": "stream",
     "text": [
      "[INFO]...max_iter= 1000 ,learning_rate= 0.9 ,n_neurons= 6\n",
      "[INFO]...max_iter= 1000 ,learning_rate= 0.9 ,n_neurons= 9\n",
      "[INFO]...max_iter= 1000 ,learning_rate= 0.9 ,n_neurons= 12\n",
      "[INFO]...max_iter= 1000 ,learning_rate= 0.09 ,n_neurons= 6\n",
      "[INFO]...max_iter= 1000 ,learning_rate= 0.09 ,n_neurons= 9\n",
      "[INFO]...max_iter= 1000 ,learning_rate= 0.09 ,n_neurons= 12\n",
      "[INFO]...max_iter= 1000 ,learning_rate= 0.009 ,n_neurons= 6\n",
      "[INFO]...max_iter= 1000 ,learning_rate= 0.009 ,n_neurons= 9\n",
      "[INFO]...max_iter= 1000 ,learning_rate= 0.009 ,n_neurons= 12\n",
      "[INFO]...max_iter= 10000 ,learning_rate= 0.9 ,n_neurons= 6\n",
      "[INFO]...max_iter= 10000 ,learning_rate= 0.9 ,n_neurons= 9\n",
      "[INFO]...max_iter= 10000 ,learning_rate= 0.9 ,n_neurons= 12\n",
      "[INFO]...max_iter= 10000 ,learning_rate= 0.09 ,n_neurons= 6\n",
      "[INFO]...max_iter= 10000 ,learning_rate= 0.09 ,n_neurons= 9\n",
      "[INFO]...max_iter= 10000 ,learning_rate= 0.09 ,n_neurons= 12\n",
      "[INFO]...max_iter= 10000 ,learning_rate= 0.009 ,n_neurons= 6\n",
      "[INFO]...max_iter= 10000 ,learning_rate= 0.009 ,n_neurons= 9\n",
      "[INFO]...max_iter= 10000 ,learning_rate= 0.009 ,n_neurons= 12\n",
      "[INFO]...max_iter= 100 ,learning_rate= 0.9 ,n_neurons= 6\n",
      "[INFO]...max_iter= 100 ,learning_rate= 0.9 ,n_neurons= 9\n",
      "[INFO]...max_iter= 100 ,learning_rate= 0.9 ,n_neurons= 12\n",
      "[INFO]...max_iter= 100 ,learning_rate= 0.09 ,n_neurons= 6\n",
      "[INFO]...max_iter= 100 ,learning_rate= 0.09 ,n_neurons= 9\n",
      "[INFO]...max_iter= 100 ,learning_rate= 0.09 ,n_neurons= 12\n",
      "[INFO]...max_iter= 100 ,learning_rate= 0.009 ,n_neurons= 6\n"
     ]
    },
    {
     "name": "stderr",
     "output_type": "stream",
     "text": [
      "/home/vinihcampos/miniconda3/envs/covertype/lib/python3.6/site-packages/sklearn/neural_network/multilayer_perceptron.py:562: ConvergenceWarning: Stochastic Optimizer: Maximum iterations (100) reached and the optimization hasn't converged yet.\n",
      "  % self.max_iter, ConvergenceWarning)\n",
      "/home/vinihcampos/miniconda3/envs/covertype/lib/python3.6/site-packages/sklearn/neural_network/multilayer_perceptron.py:562: ConvergenceWarning: Stochastic Optimizer: Maximum iterations (100) reached and the optimization hasn't converged yet.\n",
      "  % self.max_iter, ConvergenceWarning)\n"
     ]
    },
    {
     "name": "stdout",
     "output_type": "stream",
     "text": [
      "[INFO]...max_iter= 100 ,learning_rate= 0.009 ,n_neurons= 9\n"
     ]
    },
    {
     "name": "stderr",
     "output_type": "stream",
     "text": [
      "/home/vinihcampos/miniconda3/envs/covertype/lib/python3.6/site-packages/sklearn/neural_network/multilayer_perceptron.py:562: ConvergenceWarning: Stochastic Optimizer: Maximum iterations (100) reached and the optimization hasn't converged yet.\n",
      "  % self.max_iter, ConvergenceWarning)\n",
      "/home/vinihcampos/miniconda3/envs/covertype/lib/python3.6/site-packages/sklearn/neural_network/multilayer_perceptron.py:562: ConvergenceWarning: Stochastic Optimizer: Maximum iterations (100) reached and the optimization hasn't converged yet.\n",
      "  % self.max_iter, ConvergenceWarning)\n"
     ]
    },
    {
     "name": "stdout",
     "output_type": "stream",
     "text": [
      "[INFO]...max_iter= 100 ,learning_rate= 0.009 ,n_neurons= 12\n"
     ]
    },
    {
     "name": "stderr",
     "output_type": "stream",
     "text": [
      "/home/vinihcampos/miniconda3/envs/covertype/lib/python3.6/site-packages/sklearn/neural_network/multilayer_perceptron.py:562: ConvergenceWarning: Stochastic Optimizer: Maximum iterations (100) reached and the optimization hasn't converged yet.\n",
      "  % self.max_iter, ConvergenceWarning)\n"
     ]
    },
    {
     "name": "stdout",
     "output_type": "stream",
     "text": [
      "[INFO]...max_iter= 1000 ,learning_rate= 0.9 ,n_neurons= 6\n",
      "[INFO]...max_iter= 1000 ,learning_rate= 0.9 ,n_neurons= 9\n",
      "[INFO]...max_iter= 1000 ,learning_rate= 0.9 ,n_neurons= 12\n",
      "[INFO]...max_iter= 1000 ,learning_rate= 0.09 ,n_neurons= 6\n",
      "[INFO]...max_iter= 1000 ,learning_rate= 0.09 ,n_neurons= 9\n",
      "[INFO]...max_iter= 1000 ,learning_rate= 0.09 ,n_neurons= 12\n",
      "[INFO]...max_iter= 1000 ,learning_rate= 0.009 ,n_neurons= 6\n",
      "[INFO]...max_iter= 1000 ,learning_rate= 0.009 ,n_neurons= 9\n",
      "[INFO]...max_iter= 1000 ,learning_rate= 0.009 ,n_neurons= 12\n",
      "[INFO]...max_iter= 10000 ,learning_rate= 0.9 ,n_neurons= 6\n",
      "[INFO]...max_iter= 10000 ,learning_rate= 0.9 ,n_neurons= 9\n",
      "[INFO]...max_iter= 10000 ,learning_rate= 0.9 ,n_neurons= 12\n",
      "[INFO]...max_iter= 10000 ,learning_rate= 0.09 ,n_neurons= 6\n",
      "[INFO]...max_iter= 10000 ,learning_rate= 0.09 ,n_neurons= 9\n",
      "[INFO]...max_iter= 10000 ,learning_rate= 0.09 ,n_neurons= 12\n",
      "[INFO]...max_iter= 10000 ,learning_rate= 0.009 ,n_neurons= 6\n",
      "[INFO]...max_iter= 10000 ,learning_rate= 0.009 ,n_neurons= 9\n",
      "[INFO]...max_iter= 10000 ,learning_rate= 0.009 ,n_neurons= 12\n"
     ]
    }
   ],
   "source": [
    "result_original = perform_mlp(original_train, original_test)\n",
    "result_original_norm = perform_mlp(original_norm_train, original_norm_test)\n",
    "result_lda = perform_mlp(lda_train, lda_test)\n",
    "result_lda_norm = perform_mlp(lda_norm_train, lda_norm_test)"
   ]
  },
  {
   "cell_type": "code",
   "execution_count": 16,
   "metadata": {},
   "outputs": [
    {
     "name": "stdout",
     "output_type": "stream",
     "text": [
      "Original:  0.14288685524126457\n",
      "Original norm:  0.7059068219633944\n",
      "LDA:  0.6530782029950083\n",
      "LDA norm:  0.6530782029950083\n"
     ]
    }
   ],
   "source": [
    "print(\"Original: \", max([ x[0] for x in result_original ]))\n",
    "print(\"Original norm: \", max([ x[0] for x in result_original_norm ]))\n",
    "print(\"LDA: \", max([ x[0] for x in result_lda ]))\n",
    "print(\"LDA norm: \", max([ x[0] for x in result_lda_norm ]))"
   ]
  },
  {
   "cell_type": "code",
   "execution_count": null,
   "metadata": {},
   "outputs": [],
   "source": []
  }
 ],
 "metadata": {
  "kernelspec": {
   "display_name": "Python 3",
   "language": "python",
   "name": "python3"
  },
  "language_info": {
   "codemirror_mode": {
    "name": "ipython",
    "version": 3
   },
   "file_extension": ".py",
   "mimetype": "text/x-python",
   "name": "python",
   "nbconvert_exporter": "python",
   "pygments_lexer": "ipython3",
   "version": "3.6.6"
  }
 },
 "nbformat": 4,
 "nbformat_minor": 2
}
