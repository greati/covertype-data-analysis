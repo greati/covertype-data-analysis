{
 "cells": [
  {
   "cell_type": "code",
   "execution_count": 1,
   "metadata": {},
   "outputs": [],
   "source": [
    "# Import libraries\n",
    "import pandas as pd\n",
    "import numpy as np\n",
    "from sklearn.tree import DecisionTreeClassifier\n",
    "from sklearn.model_selection import cross_validate"
   ]
  },
  {
   "cell_type": "code",
   "execution_count": 15,
   "metadata": {},
   "outputs": [],
   "source": [
    "# Train datasets\n",
    "original_train = pd.read_csv('../datasets/covertype_train.csv')\n",
    "original_norm_train = pd.read_csv('../datasets/covertype_norm_train.csv')\n",
    "lda_train = pd.read_csv('../datasets/covertype_lda_train_raw.csv')\n",
    "lda_norm_train = pd.read_csv('../datasets/covertype_lda_train.csv')\n",
    "\n",
    "# Targets\n",
    "target_original_train = original_train.iloc[:,-1]\n",
    "target_original_norm_train = original_norm_train.iloc[:,-1]\n",
    "target_lda_train = lda_train.iloc[:,-1]\n",
    "target_lda_norm_train = lda_norm_train.iloc[:,-1]\n",
    "\n",
    "# Dataset without classes\n",
    "data_original_train = original_train.iloc[:,:-1]\n",
    "data_original_norm_train = original_norm_train.iloc[:,:-1]\n",
    "data_lda_train = lda_train.iloc[:,:-1]\n",
    "data_lda_norm_train = lda_norm_train.iloc[:,:-1]"
   ]
  },
  {
   "cell_type": "code",
   "execution_count": 16,
   "metadata": {},
   "outputs": [],
   "source": [
    "# Test datasets\n",
    "original_test = pd.read_csv('../datasets/covertype_test.csv')\n",
    "original_norm_test = pd.read_csv('../datasets/covertype_norm_test.csv')\n",
    "lda_test = pd.read_csv('../datasets/covertype_lda_test_raw.csv')\n",
    "lda_norm_test = pd.read_csv('../datasets/covertype_lda_test.csv')\n",
    "\n",
    "# Targets\n",
    "target_original_test = original_test.iloc[:,-1]\n",
    "target_original_norm_test = original_norm_test.iloc[:,-1]\n",
    "target_lda_test = lda_test.iloc[:,-1]\n",
    "target_lda_norm_test = lda_norm_test.iloc[:,-1]\n",
    "\n",
    "# Dataset without classes\n",
    "data_original_test = original_test.iloc[:,:-1]\n",
    "data_original_norm_test = original_norm_test.iloc[:,:-1]\n",
    "data_lda_test = lda_test.iloc[:,:-1]\n",
    "data_lda_norm_test = lda_norm_test.iloc[:,:-1]"
   ]
  },
  {
   "cell_type": "code",
   "execution_count": 17,
   "metadata": {},
   "outputs": [],
   "source": [
    "def perform_decision_tree(train, test):\n",
    "    '''\n",
    "    Performs decision tree for a given dataset.\n",
    "    '''\n",
    "    # Split the datasets in data and target\n",
    "    train_target = train['cover_type']\n",
    "    train_data   = train.loc[:, train.columns != 'cover_type']\n",
    "    test_target  = test['cover_type']\n",
    "    test_data    = test.loc[:, test.columns != 'cover_type']\n",
    "    \n",
    "    d_tree = DecisionTreeClassifier(random_state=0)    \n",
    "    result = cross_validate(d_tree, train_data, train_target, cv=10, return_estimator=True)\n",
    "    \n",
    "    acc_best = 0\n",
    "    best_estimator = result['estimator'][0]\n",
    "\n",
    "    for estimator in result['estimator']:\n",
    "        score = estimator.score(test_data, test_target)\n",
    "        if score > acc_best:\n",
    "            acc_best = score\n",
    "            best_estimator = estimator\n",
    "            \n",
    "    return [acc_best, best_estimator]"
   ]
  },
  {
   "cell_type": "code",
   "execution_count": 18,
   "metadata": {},
   "outputs": [],
   "source": [
    "result_original = perform_decision_tree(original_train, original_test)\n",
    "result_original_norm = perform_decision_tree(original_norm_train, original_norm_test)\n",
    "result_lda = perform_decision_tree(lda_train, lda_test)\n",
    "result_lda_norm = perform_decision_tree(lda_norm_train, lda_norm_test)"
   ]
  },
  {
   "cell_type": "code",
   "execution_count": 19,
   "metadata": {},
   "outputs": [
    {
     "name": "stdout",
     "output_type": "stream",
     "text": [
      "Original:  0.8136439267886856\n",
      "Original norm:  0.8136439267886856\n",
      "LDA:  0.7680948419301165\n",
      "LDA norm:  0.7680948419301165\n"
     ]
    }
   ],
   "source": [
    "print(\"Original: \", result_original[0])\n",
    "print(\"Original norm: \", result_original_norm[0])\n",
    "print(\"LDA: \", result_lda[0])\n",
    "print(\"LDA norm: \", result_lda_norm[0])"
   ]
  }
 ],
 "metadata": {
  "kernelspec": {
   "display_name": "Python 3",
   "language": "python",
   "name": "python3"
  },
  "language_info": {
   "codemirror_mode": {
    "name": "ipython",
    "version": 3
   },
   "file_extension": ".py",
   "mimetype": "text/x-python",
   "name": "python",
   "nbconvert_exporter": "python",
   "pygments_lexer": "ipython3",
   "version": "3.6.6"
  }
 },
 "nbformat": 4,
 "nbformat_minor": 2
}
