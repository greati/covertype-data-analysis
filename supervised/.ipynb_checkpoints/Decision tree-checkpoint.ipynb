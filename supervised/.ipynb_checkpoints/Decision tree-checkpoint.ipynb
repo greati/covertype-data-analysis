{
 "cells": [
  {
   "cell_type": "code",
   "execution_count": 1,
   "metadata": {},
   "outputs": [],
   "source": [
    "# Import libraries\n",
    "import pandas as pd\n",
    "import numpy as np\n",
    "from sklearn.tree import DecisionTreeClassifier\n",
    "from sklearn.model_selection import cross_validate"
   ]
  },
  {
   "cell_type": "code",
   "execution_count": 13,
   "metadata": {},
   "outputs": [],
   "source": [
    "# Train datasets\n",
    "original_train = pd.read_csv('../datasets/covertype_norm_train.csv')\n",
    "lda_train = pd.read_csv('../datasets/covertype_lda_train.csv')\n",
    "\n",
    "# Targets\n",
    "target_original_train = original_train.iloc[:,-1]\n",
    "target_lda_train = lda_train.iloc[:,-1]\n",
    "\n",
    "# Dataset without classes\n",
    "data_original_train = original_train.iloc[:,:-1]\n",
    "data_lda_train = lda_train.iloc[:,:-1]"
   ]
  },
  {
   "cell_type": "code",
   "execution_count": 14,
   "metadata": {},
   "outputs": [],
   "source": [
    "# Test datasets\n",
    "original_test = pd.read_csv('../datasets/covertype_norm_test.csv')\n",
    "lda_test = pd.read_csv('../datasets/covertype_lda_test.csv')\n",
    "\n",
    "# Targets\n",
    "target_original_test = original_test.iloc[:,-1]\n",
    "target_lda_test = lda_test.iloc[:,-1]\n",
    "\n",
    "# Dataset without classes\n",
    "data_original_test = original_test.iloc[:,:-1]\n",
    "data_lda_test = lda_test.iloc[:,:-1]"
   ]
  },
  {
   "cell_type": "code",
   "execution_count": 106,
   "metadata": {},
   "outputs": [],
   "source": [
    "def perform_decision_tree(train, test):\n",
    "    '''\n",
    "    Performs decision tree for a given dataset.\n",
    "    '''\n",
    "    # Split the datasets in data and target\n",
    "    train_target = train['cover_type']\n",
    "    train_data   = train.loc[:, train.columns != 'cover_type']\n",
    "    test_target  = test['cover_type']\n",
    "    test_data    = test.loc[:, test.columns != 'cover_type']\n",
    "    \n",
    "    d_tree = DecisionTreeClassifier(random_state=0)    \n",
    "    result = cross_validate(d_tree, train_data, train_target, cv=10, return_estimator=True)\n",
    "    \n",
    "    acc_best = 0\n",
    "    best_estimator = result['estimator'][0]\n",
    "\n",
    "    for estimator in result['estimator']:\n",
    "        score = estimator.score(test_data, test_target)\n",
    "        if score > acc_best:\n",
    "            acc_best = score\n",
    "            best_estimator = estimator\n",
    "            \n",
    "    return [acc_best, best_estimator]\n",
    "\n",
    "def check_tree_score(model, test):\n",
    "    test_target  = test['cover_type']\n",
    "    test_data    = test.loc[:, test.columns != 'cover_type']\n",
    "    return model.score(test_data, test_target)"
   ]
  },
  {
   "cell_type": "code",
   "execution_count": 107,
   "metadata": {},
   "outputs": [],
   "source": [
    "result_original = perform_decision_tree(original_train, original_test)\n",
    "result_lda = perform_decision_tree(lda_train, lda_test)"
   ]
  },
  {
   "cell_type": "code",
   "execution_count": 108,
   "metadata": {},
   "outputs": [
    {
     "name": "stdout",
     "output_type": "stream",
     "text": [
      "Original:  0.8136439267886856\n",
      "LDA:  0.7680948419301165\n"
     ]
    }
   ],
   "source": [
    "print(\"Original: \", result_original[0])\n",
    "print(\"LDA: \", result_lda[0])"
   ]
  },
  {
   "cell_type": "markdown",
   "metadata": {},
   "source": [
    "## Post-prune"
   ]
  },
  {
   "cell_type": "code",
   "execution_count": 109,
   "metadata": {},
   "outputs": [],
   "source": [
    "from sklearn.tree._tree import TREE_LEAF\n",
    "\n",
    "def prune_index(inner_tree, index, threshold):\n",
    "    if inner_tree.value[index].min() < threshold:\n",
    "        # turn node into a leaf by \"unlinking\" its children\n",
    "        inner_tree.children_left[index] = TREE_LEAF\n",
    "        inner_tree.children_right[index] = TREE_LEAF\n",
    "    # if there are children, visit them as well\n",
    "    if inner_tree.children_left[index] != TREE_LEAF:\n",
    "        prune_index(inner_tree, inner_tree.children_left[index], threshold)\n",
    "        prune_index(inner_tree, inner_tree.children_right[index], threshold)"
   ]
  },
  {
   "cell_type": "code",
   "execution_count": 110,
   "metadata": {},
   "outputs": [
    {
     "name": "stdout",
     "output_type": "stream",
     "text": [
      "1770\n",
      "1772\n"
     ]
    }
   ],
   "source": [
    "print(sum(result_original[1].tree_.children_left < 0))\n",
    "prune_index(result_original[1].tree_, 0, 5)\n",
    "print(sum(result_original[1].tree_.children_left < 0))"
   ]
  },
  {
   "cell_type": "code",
   "execution_count": 111,
   "metadata": {},
   "outputs": [
    {
     "name": "stdout",
     "output_type": "stream",
     "text": [
      "2116\n",
      "2118\n"
     ]
    }
   ],
   "source": [
    "print(sum(result_lda[1].tree_.children_left < 0))\n",
    "prune_index(result_lda[1].tree_, 0, 5)\n",
    "print(sum(result_lda[1].tree_.children_left < 0))"
   ]
  },
  {
   "cell_type": "code",
   "execution_count": 112,
   "metadata": {},
   "outputs": [],
   "source": [
    "def tree_info(model):\n",
    "    '''\n",
    "    Obtain informations about the tree.\n",
    "    '''\n",
    "    tree = model.tree_\n",
    "    nodes = tree.node_count    \n",
    "    children_left = tree.children_left\n",
    "    children_right = tree.children_right\n",
    "    leaves = 0\n",
    "    \n",
    "    '''\n",
    "    Perform the walk over tree.\n",
    "    '''\n",
    "    def walk(id):\n",
    "        nonlocal leaves\n",
    "        if (children_left[id] != children_right[id]):\n",
    "            left_max = 1 + walk(children_left[id])\n",
    "            right_max = 1 + walk(children_right[id])\n",
    "            return max(left_max, right_max)\n",
    "        else: # leaf\n",
    "            leaves += 1\n",
    "            return 1\n",
    "\n",
    "    root_node_id = 0\n",
    "    return [nodes, walk(root_node_id), leaves]\n",
    "        "
   ]
  },
  {
   "cell_type": "code",
   "execution_count": 113,
   "metadata": {},
   "outputs": [
    {
     "name": "stdout",
     "output_type": "stream",
     "text": [
      "[3539, 2, 2]\n",
      "[4231, 2, 2]\n",
      "0.28577371048252914\n",
      "0.28577371048252914\n"
     ]
    }
   ],
   "source": [
    "print(tree_info(result_original[1]))\n",
    "print(tree_info(result_lda[1]))\n",
    "print(check_tree_score(result_original[1], original_test))\n",
    "print(check_tree_score(result_lda[1], lda_test))"
   ]
  }
 ],
 "metadata": {
  "kernelspec": {
   "display_name": "Python 3",
   "language": "python",
   "name": "python3"
  },
  "language_info": {
   "codemirror_mode": {
    "name": "ipython",
    "version": 3
   },
   "file_extension": ".py",
   "mimetype": "text/x-python",
   "name": "python",
   "nbconvert_exporter": "python",
   "pygments_lexer": "ipython3",
   "version": "3.6.6"
  }
 },
 "nbformat": 4,
 "nbformat_minor": 2
}
