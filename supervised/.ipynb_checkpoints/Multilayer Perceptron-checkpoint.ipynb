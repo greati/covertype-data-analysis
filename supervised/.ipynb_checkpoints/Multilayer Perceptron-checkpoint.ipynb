{
 "cells": [
  {
   "cell_type": "code",
   "execution_count": 30,
   "metadata": {},
   "outputs": [],
   "source": [
    "%matplotlib inline\n",
    "\n",
    "# Import libraries\n",
    "import pandas as pd\n",
    "import numpy as np\n",
    "from sklearn.neural_network import MLPClassifier\n",
    "from sklearn.model_selection import cross_validate\n",
    "import matplotlib.pyplot as plt"
   ]
  },
  {
   "cell_type": "code",
   "execution_count": 3,
   "metadata": {},
   "outputs": [],
   "source": [
    "# Train datasets\n",
    "original_train = pd.read_csv('../datasets/covertype_train.csv')\n",
    "original_norm_train = pd.read_csv('../datasets/covertype_norm_train.csv')\n",
    "lda_train = pd.read_csv('../datasets/covertype_lda_train_raw.csv')\n",
    "lda_norm_train = pd.read_csv('../datasets/covertype_lda_train.csv')\n",
    "\n",
    "# Targets\n",
    "target_original_train = original_train.iloc[:,-1]\n",
    "target_original_norm_train = original_norm_train.iloc[:,-1]\n",
    "target_lda_train = lda_train.iloc[:,-1]\n",
    "target_lda_norm_train = lda_norm_train.iloc[:,-1]\n",
    "\n",
    "# Dataset without classes\n",
    "data_original_train = original_train.iloc[:,:-1]\n",
    "data_original_norm_train = original_norm_train.iloc[:,:-1]\n",
    "data_lda_train = lda_train.iloc[:,:-1]\n",
    "data_lda_norm_train = lda_norm_train.iloc[:,:-1]"
   ]
  },
  {
   "cell_type": "code",
   "execution_count": 4,
   "metadata": {},
   "outputs": [],
   "source": [
    "# Test datasets\n",
    "original_test = pd.read_csv('../datasets/covertype_test.csv')\n",
    "original_norm_test = pd.read_csv('../datasets/covertype_norm_test.csv')\n",
    "lda_test = pd.read_csv('../datasets/covertype_lda_test_raw.csv')\n",
    "\n",
    "# Targets\n",
    "target_original_test = original_test.iloc[:,-1]\n",
    "target_original_norm_test = original_norm_test.iloc[:,-1]\n",
    "target_lda_test = lda_test.iloc[:,-1]\n",
    "\n",
    "# Dataset without classes\n",
    "data_original_test = original_test.iloc[:,:-1]\n",
    "data_original_norm_test = original_norm_test.iloc[:,:-1]\n",
    "data_lda_test = lda_test.iloc[:,:-1]"
   ]
  },
  {
   "cell_type": "code",
   "execution_count": 5,
   "metadata": {},
   "outputs": [],
   "source": [
    "def perform_mlp(train, test, title):\n",
    "    '''\n",
    "    Performs mlp for a given dataset.\n",
    "    '''\n",
    "    \n",
    "    train_target = train['cover_type']\n",
    "    train_data   = train.loc[:, train.columns != 'cover_type']\n",
    "    test_target  = test['cover_type']\n",
    "    test_data    = test.loc[:, test.columns != 'cover_type']\n",
    "    \n",
    "    momentum = 0.8\n",
    "    max_iter = [100, 1000, 10000]\n",
    "    learning_rates = [0.9, 0.09, 0.009]\n",
    "    start_n_neurons = (len(train.columns.tolist()) - 1 + 7) // 2\n",
    "    n_neurons = [start_n_neurons, round(start_n_neurons * 1.5), round(start_n_neurons * 2)]\n",
    "    \n",
    "    r = pd.DataFrame(columns=['accuracy', 'rate', 'iteration', 'neurons'])\n",
    "    index = 0\n",
    "    for it in max_iter:\n",
    "        for rate in learning_rates:\n",
    "            for neuron in n_neurons:\n",
    "                print('[INFO]...max_iter=', it, ',learning_rate=', rate, ',n_neurons=', neuron)\n",
    "                mlp = MLPClassifier(random_state=0,\n",
    "                                    momentum=momentum,\n",
    "                                    max_iter=it,\n",
    "                                    learning_rate_init=rate,\n",
    "                                    hidden_layer_sizes=(neuron,1))\n",
    "                result = cross_validate(mlp, train_data, train_target, cv=2, return_estimator=True)                \n",
    "                acc_best = 0\n",
    "                best_estimator = result['estimator'][0]\n",
    "\n",
    "                for estimator in result['estimator']:\n",
    "                    score = estimator.score(test_data, test_target)\n",
    "                    if score > acc_best:\n",
    "                        acc_best = score\n",
    "                        best_estimator = estimator\n",
    "                \n",
    "                r.loc[index] = [ acc_best, rate, it, neuron ]\n",
    "                index += 1\n",
    "    return r"
   ]
  },
  {
   "cell_type": "code",
   "execution_count": 6,
   "metadata": {},
   "outputs": [
    {
     "name": "stdout",
     "output_type": "stream",
     "text": [
      "[INFO]...max_iter= 100 ,learning_rate= 0.9 ,n_neurons= 30\n",
      "[INFO]...max_iter= 100 ,learning_rate= 0.9 ,n_neurons= 45\n",
      "[INFO]...max_iter= 100 ,learning_rate= 0.9 ,n_neurons= 60\n",
      "[INFO]...max_iter= 100 ,learning_rate= 0.09 ,n_neurons= 30\n",
      "[INFO]...max_iter= 100 ,learning_rate= 0.09 ,n_neurons= 45\n",
      "[INFO]...max_iter= 100 ,learning_rate= 0.09 ,n_neurons= 60\n",
      "[INFO]...max_iter= 100 ,learning_rate= 0.009 ,n_neurons= 30\n",
      "[INFO]...max_iter= 100 ,learning_rate= 0.009 ,n_neurons= 45\n",
      "[INFO]...max_iter= 100 ,learning_rate= 0.009 ,n_neurons= 60\n",
      "[INFO]...max_iter= 1000 ,learning_rate= 0.9 ,n_neurons= 30\n",
      "[INFO]...max_iter= 1000 ,learning_rate= 0.9 ,n_neurons= 45\n",
      "[INFO]...max_iter= 1000 ,learning_rate= 0.9 ,n_neurons= 60\n",
      "[INFO]...max_iter= 1000 ,learning_rate= 0.09 ,n_neurons= 30\n",
      "[INFO]...max_iter= 1000 ,learning_rate= 0.09 ,n_neurons= 45\n",
      "[INFO]...max_iter= 1000 ,learning_rate= 0.09 ,n_neurons= 60\n",
      "[INFO]...max_iter= 1000 ,learning_rate= 0.009 ,n_neurons= 30\n",
      "[INFO]...max_iter= 1000 ,learning_rate= 0.009 ,n_neurons= 45\n",
      "[INFO]...max_iter= 1000 ,learning_rate= 0.009 ,n_neurons= 60\n",
      "[INFO]...max_iter= 10000 ,learning_rate= 0.9 ,n_neurons= 30\n",
      "[INFO]...max_iter= 10000 ,learning_rate= 0.9 ,n_neurons= 45\n",
      "[INFO]...max_iter= 10000 ,learning_rate= 0.9 ,n_neurons= 60\n",
      "[INFO]...max_iter= 10000 ,learning_rate= 0.09 ,n_neurons= 30\n",
      "[INFO]...max_iter= 10000 ,learning_rate= 0.09 ,n_neurons= 45\n",
      "[INFO]...max_iter= 10000 ,learning_rate= 0.09 ,n_neurons= 60\n",
      "[INFO]...max_iter= 10000 ,learning_rate= 0.009 ,n_neurons= 30\n",
      "[INFO]...max_iter= 10000 ,learning_rate= 0.009 ,n_neurons= 45\n",
      "[INFO]...max_iter= 10000 ,learning_rate= 0.009 ,n_neurons= 60\n",
      "[INFO]...max_iter= 100 ,learning_rate= 0.9 ,n_neurons= 30\n",
      "[INFO]...max_iter= 100 ,learning_rate= 0.9 ,n_neurons= 45\n",
      "[INFO]...max_iter= 100 ,learning_rate= 0.9 ,n_neurons= 60\n",
      "[INFO]...max_iter= 100 ,learning_rate= 0.09 ,n_neurons= 30\n",
      "[INFO]...max_iter= 100 ,learning_rate= 0.09 ,n_neurons= 45\n",
      "[INFO]...max_iter= 100 ,learning_rate= 0.09 ,n_neurons= 60\n",
      "[INFO]...max_iter= 100 ,learning_rate= 0.009 ,n_neurons= 30\n"
     ]
    },
    {
     "name": "stderr",
     "output_type": "stream",
     "text": [
      "/home/vinihcampos/miniconda3/envs/covertype/lib/python3.6/site-packages/sklearn/neural_network/multilayer_perceptron.py:562: ConvergenceWarning: Stochastic Optimizer: Maximum iterations (100) reached and the optimization hasn't converged yet.\n",
      "  % self.max_iter, ConvergenceWarning)\n",
      "/home/vinihcampos/miniconda3/envs/covertype/lib/python3.6/site-packages/sklearn/neural_network/multilayer_perceptron.py:562: ConvergenceWarning: Stochastic Optimizer: Maximum iterations (100) reached and the optimization hasn't converged yet.\n",
      "  % self.max_iter, ConvergenceWarning)\n"
     ]
    },
    {
     "name": "stdout",
     "output_type": "stream",
     "text": [
      "[INFO]...max_iter= 100 ,learning_rate= 0.009 ,n_neurons= 45\n"
     ]
    },
    {
     "name": "stderr",
     "output_type": "stream",
     "text": [
      "/home/vinihcampos/miniconda3/envs/covertype/lib/python3.6/site-packages/sklearn/neural_network/multilayer_perceptron.py:562: ConvergenceWarning: Stochastic Optimizer: Maximum iterations (100) reached and the optimization hasn't converged yet.\n",
      "  % self.max_iter, ConvergenceWarning)\n",
      "/home/vinihcampos/miniconda3/envs/covertype/lib/python3.6/site-packages/sklearn/neural_network/multilayer_perceptron.py:562: ConvergenceWarning: Stochastic Optimizer: Maximum iterations (100) reached and the optimization hasn't converged yet.\n",
      "  % self.max_iter, ConvergenceWarning)\n"
     ]
    },
    {
     "name": "stdout",
     "output_type": "stream",
     "text": [
      "[INFO]...max_iter= 100 ,learning_rate= 0.009 ,n_neurons= 60\n",
      "[INFO]...max_iter= 1000 ,learning_rate= 0.9 ,n_neurons= 30\n",
      "[INFO]...max_iter= 1000 ,learning_rate= 0.9 ,n_neurons= 45\n",
      "[INFO]...max_iter= 1000 ,learning_rate= 0.9 ,n_neurons= 60\n",
      "[INFO]...max_iter= 1000 ,learning_rate= 0.09 ,n_neurons= 30\n",
      "[INFO]...max_iter= 1000 ,learning_rate= 0.09 ,n_neurons= 45\n",
      "[INFO]...max_iter= 1000 ,learning_rate= 0.09 ,n_neurons= 60\n",
      "[INFO]...max_iter= 1000 ,learning_rate= 0.009 ,n_neurons= 30\n",
      "[INFO]...max_iter= 1000 ,learning_rate= 0.009 ,n_neurons= 45\n",
      "[INFO]...max_iter= 1000 ,learning_rate= 0.009 ,n_neurons= 60\n",
      "[INFO]...max_iter= 10000 ,learning_rate= 0.9 ,n_neurons= 30\n",
      "[INFO]...max_iter= 10000 ,learning_rate= 0.9 ,n_neurons= 45\n",
      "[INFO]...max_iter= 10000 ,learning_rate= 0.9 ,n_neurons= 60\n",
      "[INFO]...max_iter= 10000 ,learning_rate= 0.09 ,n_neurons= 30\n",
      "[INFO]...max_iter= 10000 ,learning_rate= 0.09 ,n_neurons= 45\n",
      "[INFO]...max_iter= 10000 ,learning_rate= 0.09 ,n_neurons= 60\n",
      "[INFO]...max_iter= 10000 ,learning_rate= 0.009 ,n_neurons= 30\n",
      "[INFO]...max_iter= 10000 ,learning_rate= 0.009 ,n_neurons= 45\n",
      "[INFO]...max_iter= 10000 ,learning_rate= 0.009 ,n_neurons= 60\n",
      "[INFO]...max_iter= 100 ,learning_rate= 0.9 ,n_neurons= 6\n",
      "[INFO]...max_iter= 100 ,learning_rate= 0.9 ,n_neurons= 9\n",
      "[INFO]...max_iter= 100 ,learning_rate= 0.9 ,n_neurons= 12\n",
      "[INFO]...max_iter= 100 ,learning_rate= 0.09 ,n_neurons= 6\n",
      "[INFO]...max_iter= 100 ,learning_rate= 0.09 ,n_neurons= 9\n",
      "[INFO]...max_iter= 100 ,learning_rate= 0.09 ,n_neurons= 12\n",
      "[INFO]...max_iter= 100 ,learning_rate= 0.009 ,n_neurons= 6\n"
     ]
    },
    {
     "name": "stderr",
     "output_type": "stream",
     "text": [
      "/home/vinihcampos/miniconda3/envs/covertype/lib/python3.6/site-packages/sklearn/neural_network/multilayer_perceptron.py:562: ConvergenceWarning: Stochastic Optimizer: Maximum iterations (100) reached and the optimization hasn't converged yet.\n",
      "  % self.max_iter, ConvergenceWarning)\n",
      "/home/vinihcampos/miniconda3/envs/covertype/lib/python3.6/site-packages/sklearn/neural_network/multilayer_perceptron.py:562: ConvergenceWarning: Stochastic Optimizer: Maximum iterations (100) reached and the optimization hasn't converged yet.\n",
      "  % self.max_iter, ConvergenceWarning)\n"
     ]
    },
    {
     "name": "stdout",
     "output_type": "stream",
     "text": [
      "[INFO]...max_iter= 100 ,learning_rate= 0.009 ,n_neurons= 9\n"
     ]
    },
    {
     "name": "stderr",
     "output_type": "stream",
     "text": [
      "/home/vinihcampos/miniconda3/envs/covertype/lib/python3.6/site-packages/sklearn/neural_network/multilayer_perceptron.py:562: ConvergenceWarning: Stochastic Optimizer: Maximum iterations (100) reached and the optimization hasn't converged yet.\n",
      "  % self.max_iter, ConvergenceWarning)\n",
      "/home/vinihcampos/miniconda3/envs/covertype/lib/python3.6/site-packages/sklearn/neural_network/multilayer_perceptron.py:562: ConvergenceWarning: Stochastic Optimizer: Maximum iterations (100) reached and the optimization hasn't converged yet.\n",
      "  % self.max_iter, ConvergenceWarning)\n"
     ]
    },
    {
     "name": "stdout",
     "output_type": "stream",
     "text": [
      "[INFO]...max_iter= 100 ,learning_rate= 0.009 ,n_neurons= 12\n"
     ]
    },
    {
     "name": "stderr",
     "output_type": "stream",
     "text": [
      "/home/vinihcampos/miniconda3/envs/covertype/lib/python3.6/site-packages/sklearn/neural_network/multilayer_perceptron.py:562: ConvergenceWarning: Stochastic Optimizer: Maximum iterations (100) reached and the optimization hasn't converged yet.\n",
      "  % self.max_iter, ConvergenceWarning)\n"
     ]
    },
    {
     "name": "stdout",
     "output_type": "stream",
     "text": [
      "[INFO]...max_iter= 1000 ,learning_rate= 0.9 ,n_neurons= 6\n",
      "[INFO]...max_iter= 1000 ,learning_rate= 0.9 ,n_neurons= 9\n",
      "[INFO]...max_iter= 1000 ,learning_rate= 0.9 ,n_neurons= 12\n",
      "[INFO]...max_iter= 1000 ,learning_rate= 0.09 ,n_neurons= 6\n",
      "[INFO]...max_iter= 1000 ,learning_rate= 0.09 ,n_neurons= 9\n",
      "[INFO]...max_iter= 1000 ,learning_rate= 0.09 ,n_neurons= 12\n",
      "[INFO]...max_iter= 1000 ,learning_rate= 0.009 ,n_neurons= 6\n",
      "[INFO]...max_iter= 1000 ,learning_rate= 0.009 ,n_neurons= 9\n",
      "[INFO]...max_iter= 1000 ,learning_rate= 0.009 ,n_neurons= 12\n",
      "[INFO]...max_iter= 10000 ,learning_rate= 0.9 ,n_neurons= 6\n",
      "[INFO]...max_iter= 10000 ,learning_rate= 0.9 ,n_neurons= 9\n",
      "[INFO]...max_iter= 10000 ,learning_rate= 0.9 ,n_neurons= 12\n",
      "[INFO]...max_iter= 10000 ,learning_rate= 0.09 ,n_neurons= 6\n",
      "[INFO]...max_iter= 10000 ,learning_rate= 0.09 ,n_neurons= 9\n",
      "[INFO]...max_iter= 10000 ,learning_rate= 0.09 ,n_neurons= 12\n",
      "[INFO]...max_iter= 10000 ,learning_rate= 0.009 ,n_neurons= 6\n",
      "[INFO]...max_iter= 10000 ,learning_rate= 0.009 ,n_neurons= 9\n",
      "[INFO]...max_iter= 10000 ,learning_rate= 0.009 ,n_neurons= 12\n"
     ]
    }
   ],
   "source": [
    "result_original = perform_mlp(original_train, original_test, 'Original')\n",
    "result_original_norm = perform_mlp(original_norm_train, original_norm_test, 'Normalized original')\n",
    "result_lda = perform_mlp(lda_train, lda_test, 'LDA')"
   ]
  },
  {
   "cell_type": "code",
   "execution_count": 7,
   "metadata": {},
   "outputs": [
    {
     "name": "stdout",
     "output_type": "stream",
     "text": [
      "Original: \n",
      "     accuracy   rate  iteration  neurons\n",
      "0   0.142887  0.900      100.0     30.0\n",
      "1   0.142887  0.900      100.0     45.0\n",
      "2   0.142887  0.900      100.0     60.0\n",
      "3   0.142887  0.090      100.0     30.0\n",
      "4   0.142679  0.090      100.0     45.0\n",
      "5   0.142887  0.090      100.0     60.0\n",
      "6   0.142887  0.009      100.0     30.0\n",
      "7   0.142887  0.009      100.0     45.0\n",
      "8   0.142887  0.009      100.0     60.0\n",
      "9   0.142887  0.900     1000.0     30.0\n",
      "10  0.142887  0.900     1000.0     45.0\n",
      "11  0.142887  0.900     1000.0     60.0\n",
      "12  0.142887  0.090     1000.0     30.0\n",
      "13  0.142679  0.090     1000.0     45.0\n",
      "14  0.142887  0.090     1000.0     60.0\n",
      "15  0.142887  0.009     1000.0     30.0\n",
      "16  0.142887  0.009     1000.0     45.0\n",
      "17  0.142887  0.009     1000.0     60.0\n",
      "18  0.142887  0.900    10000.0     30.0\n",
      "19  0.142887  0.900    10000.0     45.0\n",
      "20  0.142887  0.900    10000.0     60.0\n",
      "21  0.142887  0.090    10000.0     30.0\n",
      "22  0.142679  0.090    10000.0     45.0\n",
      "23  0.142887  0.090    10000.0     60.0\n",
      "24  0.142887  0.009    10000.0     30.0\n",
      "25  0.142887  0.009    10000.0     45.0\n",
      "26  0.142887  0.009    10000.0     60.0\n",
      "Original norm: \n",
      "     accuracy   rate  iteration  neurons\n",
      "0   0.142887  0.900      100.0     30.0\n",
      "1   0.142887  0.900      100.0     45.0\n",
      "2   0.142887  0.900      100.0     60.0\n",
      "3   0.558444  0.090      100.0     30.0\n",
      "4   0.468594  0.090      100.0     45.0\n",
      "5   0.410982  0.090      100.0     60.0\n",
      "6   0.695715  0.009      100.0     30.0\n",
      "7   0.530990  0.009      100.0     45.0\n",
      "8   0.448419  0.009      100.0     60.0\n",
      "9   0.142887  0.900     1000.0     30.0\n",
      "10  0.142887  0.900     1000.0     45.0\n",
      "11  0.142887  0.900     1000.0     60.0\n",
      "12  0.558444  0.090     1000.0     30.0\n",
      "13  0.468594  0.090     1000.0     45.0\n",
      "14  0.410982  0.090     1000.0     60.0\n",
      "15  0.705907  0.009     1000.0     30.0\n",
      "16  0.546173  0.009     1000.0     45.0\n",
      "17  0.448419  0.009     1000.0     60.0\n",
      "18  0.142887  0.900    10000.0     30.0\n",
      "19  0.142887  0.900    10000.0     45.0\n",
      "20  0.142887  0.900    10000.0     60.0\n",
      "21  0.558444  0.090    10000.0     30.0\n",
      "22  0.468594  0.090    10000.0     45.0\n",
      "23  0.410982  0.090    10000.0     60.0\n",
      "24  0.705907  0.009    10000.0     30.0\n",
      "25  0.546173  0.009    10000.0     45.0\n",
      "26  0.448419  0.009    10000.0     60.0\n",
      "LDA: \n",
      "     accuracy   rate  iteration  neurons\n",
      "0   0.142887  0.900      100.0      6.0\n",
      "1   0.142679  0.900      100.0      9.0\n",
      "2   0.142887  0.900      100.0     12.0\n",
      "3   0.404118  0.090      100.0      6.0\n",
      "4   0.485025  0.090      100.0      9.0\n",
      "5   0.481073  0.090      100.0     12.0\n",
      "6   0.620216  0.009      100.0      6.0\n",
      "7   0.381032  0.009      100.0      9.0\n",
      "8   0.499168  0.009      100.0     12.0\n",
      "9   0.142887  0.900     1000.0      6.0\n",
      "10  0.142679  0.900     1000.0      9.0\n",
      "11  0.142887  0.900     1000.0     12.0\n",
      "12  0.404118  0.090     1000.0      6.0\n",
      "13  0.485025  0.090     1000.0      9.0\n",
      "14  0.481073  0.090     1000.0     12.0\n",
      "15  0.623544  0.009     1000.0      6.0\n",
      "16  0.653078  0.009     1000.0      9.0\n",
      "17  0.499168  0.009     1000.0     12.0\n",
      "18  0.142887  0.900    10000.0      6.0\n",
      "19  0.142679  0.900    10000.0      9.0\n",
      "20  0.142887  0.900    10000.0     12.0\n",
      "21  0.404118  0.090    10000.0      6.0\n",
      "22  0.485025  0.090    10000.0      9.0\n",
      "23  0.481073  0.090    10000.0     12.0\n",
      "24  0.623544  0.009    10000.0      6.0\n",
      "25  0.653078  0.009    10000.0      9.0\n",
      "26  0.499168  0.009    10000.0     12.0\n"
     ]
    }
   ],
   "source": [
    "print(\"Original: \\n\", result_original )\n",
    "print(\"Original norm: \\n\", result_original_norm)\n",
    "print(\"LDA: \\n\", result_lda)"
   ]
  },
  {
   "cell_type": "code",
   "execution_count": 8,
   "metadata": {},
   "outputs": [],
   "source": [
    "result_original.sort_values(['accuracy', 'rate', 'iteration', 'neurons'], ascending=[False, True, True, True],inplace=True)\n",
    "result_original_norm.sort_values(['accuracy', 'rate', 'iteration', 'neurons'], ascending=[False, True, True, True],inplace=True)\n",
    "result_lda.sort_values(['accuracy', 'rate', 'iteration', 'neurons'], ascending=[False, True, True, True],inplace=True)\n",
    "\n",
    "result_original = result_original.reset_index(drop=True)\n",
    "result_original_norm = result_original_norm.reset_index(drop=True)\n",
    "result_lda = result_lda.reset_index(drop=True)\n",
    "\n",
    "best_original = result_original.iloc[0,:]\n",
    "best_original_norm = result_original_norm.iloc[0,:]\n",
    "best_lda = result_lda.iloc[0,:]"
   ]
  },
  {
   "cell_type": "code",
   "execution_count": 9,
   "metadata": {},
   "outputs": [
    {
     "name": "stdout",
     "output_type": "stream",
     "text": [
      "Original: \n",
      " accuracy       0.142887\n",
      "rate           0.009000\n",
      "iteration    100.000000\n",
      "neurons       30.000000\n",
      "Name: 0, dtype: float64\n",
      "Original norm: \n",
      " accuracy        0.705907\n",
      "rate            0.009000\n",
      "iteration    1000.000000\n",
      "neurons        30.000000\n",
      "Name: 0, dtype: float64\n",
      "LDA: \n",
      " accuracy        0.653078\n",
      "rate            0.009000\n",
      "iteration    1000.000000\n",
      "neurons         9.000000\n",
      "Name: 0, dtype: float64\n"
     ]
    }
   ],
   "source": [
    "print(\"Original: \\n\", best_original )\n",
    "print(\"Original norm: \\n\", best_original_norm)\n",
    "print(\"LDA: \\n\", best_lda)"
   ]
  },
  {
   "cell_type": "code",
   "execution_count": 46,
   "metadata": {},
   "outputs": [],
   "source": [
    "import warnings\n",
    "warnings.filterwarnings('ignore', category=DeprecationWarning, module='sklearn')\n",
    "\n",
    "def perform_mlp_10k(train, test, values, title):\n",
    "    '''\n",
    "    Performs mlp for a given dataset.\n",
    "    '''\n",
    "    \n",
    "    train_target = train['cover_type']\n",
    "    train_data   = train.loc[:, train.columns != 'cover_type']\n",
    "    test_target  = test['cover_type']\n",
    "    test_data    = test.loc[:, test.columns != 'cover_type']\n",
    "    \n",
    "    momentum = 0.8\n",
    "    \n",
    "    train_scores = []\n",
    "    test_scores = []\n",
    "        \n",
    "    r = []\n",
    "    f = plt.figure(figsize=(15,2))\n",
    "    f.subplots_adjust(hspace=0.5, wspace=0.5)\n",
    "    for i in range(5):\n",
    "        print('[INFO]...max_iter=', int(values['iteration']), ',learning_rate=', values['rate'], ',n_neurons=', int(values['neurons']))\n",
    "        mlp = MLPClassifier(momentum=momentum,\n",
    "                            max_iter=int(values['iteration']),\n",
    "                            learning_rate_init=values['rate'],\n",
    "                            hidden_layer_sizes=(int(values['neurons']),1))\n",
    "        result = cross_validate(mlp, train_data, train_target, cv=10, return_estimator=True, return_train_score=True)\n",
    "        acc_best = 0\n",
    "        best_estimator = result['estimator'][0]\n",
    "        \n",
    "        train_scores.append(result['train_score'])\n",
    "        test_scores.append(result['test_score'])\n",
    "        \n",
    "        ax = f.add_subplot(i+151)\n",
    "        ax.plot(range(1,11), result['train_score'], 'o-', color=\"r\",\n",
    "             label=\"Training score\")\n",
    "        ax.plot(range(1,11), result['test_score'], 'o-', color=\"g\",\n",
    "             label=\"Cross-validation score\")\n",
    "        ax.grid()\n",
    "        \n",
    "        for estimator in result['estimator']:\n",
    "            score = estimator.score(test_data, test_target)\n",
    "            if score > acc_best:\n",
    "                acc_best = score\n",
    "                best_estimator = estimator\n",
    "                \n",
    "        r.append(acc_best)\n",
    "    \n",
    "    plt.show()\n",
    "    \n",
    "    train_scores_mean = np.mean(train_scores, axis=1)\n",
    "    train_scores_std = np.std(train_scores, axis=1)\n",
    "    test_scores_mean = np.mean(test_scores, axis=1)\n",
    "    test_scores_std = np.std(test_scores, axis=1)\n",
    "    \n",
    "    plt.figure()\n",
    "    plt.title(title + ' - (max iterations: ' + str(int(values['iteration'])) + ', learning rate: ' + str(values['rate']) + ', nº neurons: ' + str(int(values['neurons'])))\n",
    "    plt.xlabel(\"Split\")\n",
    "    plt.ylabel(\"Score\")\n",
    "    plt.grid()\n",
    "    plt.fill_between(range(1,6), train_scores_mean - train_scores_std,\n",
    "                     train_scores_mean + train_scores_std, alpha=0.1,\n",
    "                     color=\"r\")\n",
    "    plt.fill_between(range(1,6), test_scores_mean - test_scores_std,\n",
    "                     test_scores_mean + test_scores_std, alpha=0.1, color=\"g\")\n",
    "    \n",
    "    plt.plot(range(1,6), train_scores_mean, 'o-', color=\"r\",\n",
    "             label=\"Training score\")\n",
    "    plt.plot(range(1,6), test_scores_mean, 'o-', color=\"g\",\n",
    "             label=\"Cross-validation score\")\n",
    "    plt.legend(loc=\"best\")\n",
    "    plt.show()\n",
    "    \n",
    "    return r"
   ]
  },
  {
   "cell_type": "code",
   "execution_count": 47,
   "metadata": {},
   "outputs": [
    {
     "name": "stdout",
     "output_type": "stream",
     "text": [
      "[INFO]...max_iter= 100 ,learning_rate= 0.009 ,n_neurons= 30\n",
      "[INFO]...max_iter= 100 ,learning_rate= 0.009 ,n_neurons= 30\n",
      "[INFO]...max_iter= 100 ,learning_rate= 0.009 ,n_neurons= 30\n",
      "[INFO]...max_iter= 100 ,learning_rate= 0.009 ,n_neurons= 30\n",
      "[INFO]...max_iter= 100 ,learning_rate= 0.009 ,n_neurons= 30\n"
     ]
    },
    {
     "name": "stderr",
     "output_type": "stream",
     "text": [
      "/home/vinihcampos/miniconda3/envs/covertype/lib/python3.6/site-packages/sklearn/neural_network/multilayer_perceptron.py:564: UserWarning: Training interrupted by user.\n",
      "  warnings.warn(\"Training interrupted by user.\")\n"
     ]
    },
    {
     "data": {
      "image/png": "[encoded data removed]",
      "text/plain": [
       "<Figure size 1080x144 with 5 Axes>"
      ]
     },
     "metadata": {
      "needs_background": "light"
     },
     "output_type": "display_data"
    },
    {
     "data": {
      "image/png": "[encoded data removed]",
      "text/plain": [
       "<Figure size 432x288 with 1 Axes>"
      ]
     },
     "metadata": {
      "needs_background": "light"
     },
     "output_type": "display_data"
    }
   ],
   "source": [
    "result_original_10k = perform_mlp_10k(original_train, original_test , best_original, 'Original')"
   ]
  },
  {
   "cell_type": "code",
   "execution_count": null,
   "metadata": {},
   "outputs": [
    {
     "name": "stdout",
     "output_type": "stream",
     "text": [
      "[INFO]...max_iter= 1000 ,learning_rate= 0.009 ,n_neurons= 30\n"
     ]
    }
   ],
   "source": [
    "result_original_norm_10k = perform_mlp_10k(original_norm_train, original_norm_test , best_original_norm, 'Normalized original')"
   ]
  },
  {
   "cell_type": "code",
   "execution_count": null,
   "metadata": {},
   "outputs": [],
   "source": [
    "result_lda_10k = perform_mlp_10k(lda_train, lda_test, best_lda, 'LDA')"
   ]
  },
  {
   "cell_type": "code",
   "execution_count": null,
   "metadata": {},
   "outputs": [],
   "source": [
    "print(\"Original: \", result_original_10k )\n",
    "print(\"Original norm: \", result_original_norm_10k)\n",
    "print(\"LDA: \", result_lda_10k)"
   ]
  },
  {
   "cell_type": "code",
   "execution_count": null,
   "metadata": {},
   "outputs": [],
   "source": []
  }
 ],
 "metadata": {
  "kernelspec": {
   "display_name": "Python 3",
   "language": "python",
   "name": "python3"
  },
  "language_info": {
   "codemirror_mode": {
    "name": "ipython",
    "version": 3
   },
   "file_extension": ".py",
   "mimetype": "text/x-python",
   "name": "python",
   "nbconvert_exporter": "python",
   "pygments_lexer": "ipython3",
   "version": "3.6.6"
  }
 },
 "nbformat": 4,
 "nbformat_minor": 2
}
