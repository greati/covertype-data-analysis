{
 "cells": [
  {
   "cell_type": "markdown",
   "metadata": {},
   "source": [
    "# Dimensionality reduction: Summary\n",
    "\n",
    "\n",
    "The table below summarizes the results of the k-NN executions according to each dimensionality reduction\n",
    "strategy applied up to now in this work:\n",
    "\n",
    "\n",
    "| Method                      | Parameters                                                                                           | Number of attributes | k-NN accuracy (%) | Decision Tree Accuracy\n",
    "|----------------------------------------|-------------------------------------------------------------------------------------------------------------------|----------------------|-------------------|----------------|\n",
    "| None  (Original data)                      | -                                                                                                    | 54                   | 0             | 0|\n",
    "| Particle Swarm Optimization | Swarm size = 100;<br/> Max iterations = 100                                                                  | 9                   | 0             | 0 |\n",
    "| Genetic Algorithm           |  Population size = 25;<br/>Max generations = 50;<br/>Combination probability = 0.7;<br/> Mutation probability = 0.05 | 13                   | 0             | 0|\n",
    "| PCA | 0.95| 40|0|0|\n",
    "| LDA | n_components=6|6|0|0|\n",
    "| Correlation filter | 60%| 32 (60%)|0|0|\n",
    "\n"
   ]
  }
 ],
 "metadata": {
  "kernelspec": {
   "display_name": "Python 3",
   "language": "python",
   "name": "python3"
  },
  "language_info": {
   "codemirror_mode": {
    "name": "ipython",
    "version": 3
   },
   "file_extension": ".py",
   "mimetype": "text/x-python",
   "name": "python",
   "nbconvert_exporter": "python",
   "pygments_lexer": "ipython3",
   "version": "3.7.0"
  }
 },
 "nbformat": 4,
 "nbformat_minor": 2
}
