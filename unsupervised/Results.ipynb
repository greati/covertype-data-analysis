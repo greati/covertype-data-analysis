{
 "cells": [
  {
   "cell_type": "markdown",
   "metadata": {},
   "source": [
    "# k-means"
   ]
  },
  {
   "cell_type": "code",
   "execution_count": 30,
   "metadata": {},
   "outputs": [
    {
     "name": "stdout",
     "output_type": "stream",
     "text": [
      "   k     avgdb\n",
      "1  3  0.831678\n"
     ]
    },
    {
     "data": {
      "image/png": "[encoded data removed]",
      "text/plain": [
       "<Figure size 432x288 with 1 Axes>"
      ]
     },
     "metadata": {
      "needs_background": "light"
     },
     "output_type": "display_data"
    }
   ],
   "source": [
    "import pandas as pd\n",
    "\n",
    "lda_avg_db = pd.read_csv('../results/kmeans_lda_avgdb.csv', header=None)\n",
    "original_avg_db = pd.read_csv('../results/kmeans_original_avgdb.csv', header=None)\n",
    "\n",
    "lda_avg_db.columns = ['k','avgdb']\n",
    "original_avg_db.columns = ['k','avgdb']\n",
    "\n",
    "ax = original_avg_db.plot.line(x=0,y=1, title=False)\n",
    "ax = lda_avg_db.plot.line(x=0,y=1, ax=ax)\n",
    "\n",
    "ax.legend(['original','lda'])\n",
    "fig = ax.get_figure()\n",
    "fig.savefig('../results/kmeans_lda_original_avgdb.pdf')\n",
    "\n",
    "print(lda_avg_db[lda_avg_db['avgdb'] == lda_avg_db['avgdb'].min()])"
   ]
  },
  {
   "cell_type": "markdown",
   "metadata": {},
   "source": [
    "# Agglomerative hierarchical"
   ]
  },
  {
   "cell_type": "code",
   "execution_count": null,
   "metadata": {},
   "outputs": [],
   "source": []
  },
  {
   "cell_type": "markdown",
   "metadata": {},
   "source": [
    "# CR index"
   ]
  },
  {
   "cell_type": "code",
   "execution_count": 34,
   "metadata": {},
   "outputs": [
    {
     "data": {
      "text/html": [
       "<div>\n",
       "<style scoped>\n",
       "    .dataframe tbody tr th:only-of-type {\n",
       "        vertical-align: middle;\n",
       "    }\n",
       "\n",
       "    .dataframe tbody tr th {\n",
       "        vertical-align: top;\n",
       "    }\n",
       "\n",
       "    .dataframe thead th {\n",
       "        text-align: right;\n",
       "    }\n",
       "</style>\n",
       "<table border=\"1\" class=\"dataframe\">\n",
       "  <thead>\n",
       "    <tr style=\"text-align: right;\">\n",
       "      <th></th>\n",
       "      <th>k</th>\n",
       "      <th>iteration</th>\n",
       "      <th>random_seed</th>\n",
       "      <th>db_index</th>\n",
       "    </tr>\n",
       "  </thead>\n",
       "  <tbody>\n",
       "    <tr>\n",
       "      <th>1</th>\n",
       "      <td>3</td>\n",
       "      <td>0</td>\n",
       "      <td>3949524602</td>\n",
       "      <td>0.831678</td>\n",
       "    </tr>\n",
       "    <tr>\n",
       "      <th>25</th>\n",
       "      <td>3</td>\n",
       "      <td>1</td>\n",
       "      <td>1982461818</td>\n",
       "      <td>0.831678</td>\n",
       "    </tr>\n",
       "    <tr>\n",
       "      <th>49</th>\n",
       "      <td>3</td>\n",
       "      <td>2</td>\n",
       "      <td>823130234</td>\n",
       "      <td>0.831678</td>\n",
       "    </tr>\n",
       "    <tr>\n",
       "      <th>73</th>\n",
       "      <td>3</td>\n",
       "      <td>3</td>\n",
       "      <td>199751802</td>\n",
       "      <td>0.831678</td>\n",
       "    </tr>\n",
       "    <tr>\n",
       "      <th>97</th>\n",
       "      <td>3</td>\n",
       "      <td>4</td>\n",
       "      <td>3703896442</td>\n",
       "      <td>0.831678</td>\n",
       "    </tr>\n",
       "  </tbody>\n",
       "</table>\n",
       "</div>"
      ],
      "text/plain": [
       "    k  iteration  random_seed  db_index\n",
       "1   3          0   3949524602  0.831678\n",
       "25  3          1   1982461818  0.831678\n",
       "49  3          2    823130234  0.831678\n",
       "73  3          3    199751802  0.831678\n",
       "97  3          4   3703896442  0.831678"
      ]
     },
     "execution_count": 34,
     "metadata": {},
     "output_type": "execute_result"
    }
   ],
   "source": [
    "import pandas as pd\n",
    "from sklearn.metrics.cluster import adjusted_rand_score\n",
    "\n",
    "kmeans_lda_results = pd.read_csv('../results/kmeans_lda_results.csv')\n",
    "\n",
    "kmeans_best_results = kmeans_lda_results[kmeans_lda_results['k']==3]\n",
    "kmeans_best_results[kmeans_best_results['db_index']==kmeans_best_results['db_index'].min()]"
   ]
  }
 ],
 "metadata": {
  "kernelspec": {
   "display_name": "Python 3",
   "language": "python",
   "name": "python3"
  },
  "language_info": {
   "codemirror_mode": {
    "name": "ipython",
    "version": 3
   },
   "file_extension": ".py",
   "mimetype": "text/x-python",
   "name": "python",
   "nbconvert_exporter": "python",
   "pygments_lexer": "ipython3",
   "version": "3.7.1"
  }
 },
 "nbformat": 4,
 "nbformat_minor": 2
}
