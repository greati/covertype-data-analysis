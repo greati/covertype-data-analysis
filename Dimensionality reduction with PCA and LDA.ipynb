{
 "cells": [
  {
   "cell_type": "code",
   "execution_count": 1,
   "metadata": {},
   "outputs": [
    {
     "data": {
      "text/html": [
       "<div>\n",
       "<style scoped>\n",
       "    .dataframe tbody tr th:only-of-type {\n",
       "        vertical-align: middle;\n",
       "    }\n",
       "\n",
       "    .dataframe tbody tr th {\n",
       "        vertical-align: top;\n",
       "    }\n",
       "\n",
       "    .dataframe thead th {\n",
       "        text-align: right;\n",
       "    }\n",
       "</style>\n",
       "<table border=\"1\" class=\"dataframe\">\n",
       "  <thead>\n",
       "    <tr style=\"text-align: right;\">\n",
       "      <th></th>\n",
       "      <th>elevation</th>\n",
       "      <th>aspect</th>\n",
       "      <th>slope</th>\n",
       "      <th>horiz_dist_hydro</th>\n",
       "      <th>vert_dist_hydro</th>\n",
       "      <th>horiz_dist_road</th>\n",
       "      <th>hillshade_9</th>\n",
       "      <th>hill_shade_noon</th>\n",
       "      <th>hill_shade_15</th>\n",
       "      <th>horiz_dist_fire</th>\n",
       "      <th>...</th>\n",
       "      <th>soil_type_31</th>\n",
       "      <th>soil_type_32</th>\n",
       "      <th>soil_type_33</th>\n",
       "      <th>soil_type_34</th>\n",
       "      <th>soil_type_35</th>\n",
       "      <th>soil_type_36</th>\n",
       "      <th>soil_type_37</th>\n",
       "      <th>soil_type_38</th>\n",
       "      <th>soil_type_39</th>\n",
       "      <th>cover_type</th>\n",
       "    </tr>\n",
       "  </thead>\n",
       "  <tbody>\n",
       "    <tr>\n",
       "      <th>0</th>\n",
       "      <td>-0.573753</td>\n",
       "      <td>-0.518424</td>\n",
       "      <td>-0.428658</td>\n",
       "      <td>0.436024</td>\n",
       "      <td>-0.475092</td>\n",
       "      <td>-0.979056</td>\n",
       "      <td>0.927864</td>\n",
       "      <td>0.144520</td>\n",
       "      <td>-0.534162</td>\n",
       "      <td>-0.220768</td>\n",
       "      <td>...</td>\n",
       "      <td>-0.214265</td>\n",
       "      <td>-0.202489</td>\n",
       "      <td>-0.039088</td>\n",
       "      <td>-0.081433</td>\n",
       "      <td>-0.016657</td>\n",
       "      <td>-0.044107</td>\n",
       "      <td>-0.220216</td>\n",
       "      <td>-0.219696</td>\n",
       "      <td>-0.172986</td>\n",
       "      <td>3</td>\n",
       "    </tr>\n",
       "    <tr>\n",
       "      <th>1</th>\n",
       "      <td>1.656009</td>\n",
       "      <td>-0.010549</td>\n",
       "      <td>0.868502</td>\n",
       "      <td>-0.516497</td>\n",
       "      <td>-0.280544</td>\n",
       "      <td>1.817610</td>\n",
       "      <td>0.862413</td>\n",
       "      <td>0.665801</td>\n",
       "      <td>-0.534162</td>\n",
       "      <td>2.273548</td>\n",
       "      <td>...</td>\n",
       "      <td>-0.214265</td>\n",
       "      <td>4.938531</td>\n",
       "      <td>-0.039088</td>\n",
       "      <td>-0.081433</td>\n",
       "      <td>-0.016657</td>\n",
       "      <td>-0.044107</td>\n",
       "      <td>-0.220216</td>\n",
       "      <td>-0.219696</td>\n",
       "      <td>-0.172986</td>\n",
       "      <td>7</td>\n",
       "    </tr>\n",
       "    <tr>\n",
       "      <th>2</th>\n",
       "      <td>0.169501</td>\n",
       "      <td>-0.799569</td>\n",
       "      <td>0.632655</td>\n",
       "      <td>0.455170</td>\n",
       "      <td>1.891910</td>\n",
       "      <td>-0.388051</td>\n",
       "      <td>0.796962</td>\n",
       "      <td>-1.245563</td>\n",
       "      <td>-1.335438</td>\n",
       "      <td>-0.687429</td>\n",
       "      <td>...</td>\n",
       "      <td>-0.214265</td>\n",
       "      <td>-0.202489</td>\n",
       "      <td>-0.039088</td>\n",
       "      <td>-0.081433</td>\n",
       "      <td>-0.016657</td>\n",
       "      <td>-0.044107</td>\n",
       "      <td>-0.220216</td>\n",
       "      <td>-0.219696</td>\n",
       "      <td>-0.172986</td>\n",
       "      <td>5</td>\n",
       "    </tr>\n",
       "    <tr>\n",
       "      <th>3</th>\n",
       "      <td>-1.205043</td>\n",
       "      <td>1.268208</td>\n",
       "      <td>1.576043</td>\n",
       "      <td>0.234990</td>\n",
       "      <td>1.648725</td>\n",
       "      <td>-0.649457</td>\n",
       "      <td>-2.933743</td>\n",
       "      <td>-0.159560</td>\n",
       "      <td>1.956291</td>\n",
       "      <td>-0.501856</td>\n",
       "      <td>...</td>\n",
       "      <td>-0.214265</td>\n",
       "      <td>-0.202489</td>\n",
       "      <td>-0.039088</td>\n",
       "      <td>-0.081433</td>\n",
       "      <td>-0.016657</td>\n",
       "      <td>-0.044107</td>\n",
       "      <td>-0.220216</td>\n",
       "      <td>-0.219696</td>\n",
       "      <td>-0.172986</td>\n",
       "      <td>6</td>\n",
       "    </tr>\n",
       "    <tr>\n",
       "      <th>4</th>\n",
       "      <td>-1.057345</td>\n",
       "      <td>0.152697</td>\n",
       "      <td>0.986425</td>\n",
       "      <td>0.134472</td>\n",
       "      <td>0.530073</td>\n",
       "      <td>-1.041945</td>\n",
       "      <td>0.404256</td>\n",
       "      <td>1.056762</td>\n",
       "      <td>-0.014415</td>\n",
       "      <td>-0.794770</td>\n",
       "      <td>...</td>\n",
       "      <td>-0.214265</td>\n",
       "      <td>-0.202489</td>\n",
       "      <td>-0.039088</td>\n",
       "      <td>-0.081433</td>\n",
       "      <td>-0.016657</td>\n",
       "      <td>-0.044107</td>\n",
       "      <td>-0.220216</td>\n",
       "      <td>-0.219696</td>\n",
       "      <td>-0.172986</td>\n",
       "      <td>3</td>\n",
       "    </tr>\n",
       "  </tbody>\n",
       "</table>\n",
       "<p>5 rows × 55 columns</p>\n",
       "</div>"
      ],
      "text/plain": [
       "   elevation    aspect     slope  horiz_dist_hydro  vert_dist_hydro  \\\n",
       "0  -0.573753 -0.518424 -0.428658          0.436024        -0.475092   \n",
       "1   1.656009 -0.010549  0.868502         -0.516497        -0.280544   \n",
       "2   0.169501 -0.799569  0.632655          0.455170         1.891910   \n",
       "3  -1.205043  1.268208  1.576043          0.234990         1.648725   \n",
       "4  -1.057345  0.152697  0.986425          0.134472         0.530073   \n",
       "\n",
       "   horiz_dist_road  hillshade_9  hill_shade_noon  hill_shade_15  \\\n",
       "0        -0.979056     0.927864         0.144520      -0.534162   \n",
       "1         1.817610     0.862413         0.665801      -0.534162   \n",
       "2        -0.388051     0.796962        -1.245563      -1.335438   \n",
       "3        -0.649457    -2.933743        -0.159560       1.956291   \n",
       "4        -1.041945     0.404256         1.056762      -0.014415   \n",
       "\n",
       "   horiz_dist_fire     ...      soil_type_31  soil_type_32  soil_type_33  \\\n",
       "0        -0.220768     ...         -0.214265     -0.202489     -0.039088   \n",
       "1         2.273548     ...         -0.214265      4.938531     -0.039088   \n",
       "2        -0.687429     ...         -0.214265     -0.202489     -0.039088   \n",
       "3        -0.501856     ...         -0.214265     -0.202489     -0.039088   \n",
       "4        -0.794770     ...         -0.214265     -0.202489     -0.039088   \n",
       "\n",
       "   soil_type_34  soil_type_35  soil_type_36  soil_type_37  soil_type_38  \\\n",
       "0     -0.081433     -0.016657     -0.044107     -0.220216     -0.219696   \n",
       "1     -0.081433     -0.016657     -0.044107     -0.220216     -0.219696   \n",
       "2     -0.081433     -0.016657     -0.044107     -0.220216     -0.219696   \n",
       "3     -0.081433     -0.016657     -0.044107     -0.220216     -0.219696   \n",
       "4     -0.081433     -0.016657     -0.044107     -0.220216     -0.219696   \n",
       "\n",
       "   soil_type_39  cover_type  \n",
       "0     -0.172986           3  \n",
       "1     -0.172986           7  \n",
       "2     -0.172986           5  \n",
       "3     -0.172986           6  \n",
       "4     -0.172986           3  \n",
       "\n",
       "[5 rows x 55 columns]"
      ]
     },
     "execution_count": 1,
     "metadata": {},
     "output_type": "execute_result"
    }
   ],
   "source": [
    "import pandas as pd\n",
    "# Load the original dataset\n",
    "dataset = pd.read_csv('datasets/covertype_norm_train.csv')\n",
    "test    = pd.read_csv('datasets/covertype_norm_test.csv')\n",
    "# Preview\n",
    "dataset.head()"
   ]
  },
  {
   "cell_type": "code",
   "execution_count": 2,
   "metadata": {},
   "outputs": [
    {
     "name": "stdout",
     "output_type": "stream",
     "text": [
      "Train data size: (14421, 54)\n",
      "Train target size: (14421,)\n",
      "Test data size: (4808, 54)\n",
      "Test target size: (4808,)\n"
     ]
    }
   ],
   "source": [
    "# Separate descriptors (data) from targets\n",
    "features_data = dataset.drop('cover_type', axis=1, inplace=False)\n",
    "targets = dataset['cover_type']\n",
    "\n",
    "features_test_data = test.drop('cover_type', axis=1, inplace=False)\n",
    "targets_test = test['cover_type']\n",
    "# Print info\n",
    "print(\"Train data size: \" + str(features_data.shape))\n",
    "print(\"Train target size: \" + str(targets.shape))\n",
    "print(\"Test data size: \" + str(features_test_data.shape))\n",
    "print(\"Test target size: \" + str(targets_test.shape))\n"
   ]
  },
  {
   "cell_type": "markdown",
   "metadata": {},
   "source": [
    "## PCA"
   ]
  },
  {
   "cell_type": "code",
   "execution_count": 3,
   "metadata": {
    "scrolled": false
   },
   "outputs": [
    {
     "name": "stdout",
     "output_type": "stream",
     "text": [
      "[INFO] Saving pca_75...\n",
      "[INFO] Saving pca_85...\n",
      "[INFO] Saving pca_95...\n",
      "[INFO] Done.\n"
     ]
    }
   ],
   "source": [
    "from sklearn.decomposition import PCA\n",
    "from sklearn.externals import joblib\n",
    "\n",
    "# PCA selection rate\n",
    "rates = [75, 85, 95]\n",
    "# Run PCA\n",
    "for rate in rates:\n",
    "    # PCA instance\n",
    "    pca = PCA(rate/100, svd_solver='full')\n",
    "    # Fit model\n",
    "    pca.fit(features_data)\n",
    "    # Dump model\n",
    "    joblib.dump(pca, 'models/pca_' + str(rate) + '.save')\n",
    "    # Transform data\n",
    "    principal_components = pca.transform(features_data)\n",
    "    # Make a DataFrame of principal components\n",
    "    result_pca_df = pd.DataFrame(data=principal_components, index=features_data.index)\n",
    "    # Concatenate with the targets\n",
    "    final_pca_df = pd.concat([result_pca_df,targets], axis=1)\n",
    "    # Save the dataset\n",
    "    print('[INFO] Saving pca_' + str(rate) + '...')\n",
    "    final_pca_df.to_csv('results/pca_' + str(rate) + '.csv', index=False)\n",
    "\n",
    "print('[INFO] Done.')"
   ]
  },
  {
   "cell_type": "code",
   "execution_count": 4,
   "metadata": {},
   "outputs": [
    {
     "name": "stdout",
     "output_type": "stream",
     "text": [
      "[INFO] PCA 75 test shape:(4808, 30)\n",
      "[INFO] Saving pca_test_75...\n",
      "[INFO] PCA 85 test shape:(4808, 35)\n",
      "[INFO] Saving pca_test_85...\n",
      "[INFO] PCA 95 test shape:(4808, 41)\n",
      "[INFO] Saving pca_test_95...\n",
      "[INFO] Done.\n"
     ]
    }
   ],
   "source": [
    "from sklearn.decomposition import PCA\n",
    "from sklearn.externals import joblib\n",
    "\n",
    "# PCA selection rate\n",
    "rates = [75, 85, 95]\n",
    "# Run PCA\n",
    "for rate in rates:\n",
    "    # load pca model\n",
    "    pca = joblib.load('models/pca_' + str(rate) + '.save')\n",
    "    # Transform data\n",
    "    principal_components = pca.transform(features_test_data)\n",
    "    # Make a DataFrame of principal components\n",
    "    result_pca_df = pd.DataFrame(data=principal_components, index=features_test_data.index)\n",
    "    # Concatenate with the targets\n",
    "    final_pca_df = pd.concat([result_pca_df,targets_test], axis=1)\n",
    "    # Check size\n",
    "    print('[INFO] PCA ' + str(rate) + ' test shape:' + str(final_pca_df.shape))\n",
    "    # Save the dataset\n",
    "    print('[INFO] Saving pca_test_' + str(rate) + '...')\n",
    "    final_pca_df.to_csv('results/pca_test_' + str(rate) + '.csv', index=False)\n",
    "\n",
    "print('[INFO] Done.')"
   ]
  },
  {
   "cell_type": "markdown",
   "metadata": {},
   "source": [
    "## LDA"
   ]
  },
  {
   "cell_type": "code",
   "execution_count": 5,
   "metadata": {},
   "outputs": [
    {
     "name": "stderr",
     "output_type": "stream",
     "text": [
      "/home/vitorgreati/miniconda3/envs/pandas/lib/python3.7/site-packages/sklearn/discriminant_analysis.py:388: UserWarning: Variables are collinear.\n",
      "  warnings.warn(\"Variables are collinear.\")\n"
     ]
    },
    {
     "name": "stdout",
     "output_type": "stream",
     "text": [
      "[INFO] Saving lda_1...\n"
     ]
    },
    {
     "name": "stderr",
     "output_type": "stream",
     "text": [
      "/home/vitorgreati/miniconda3/envs/pandas/lib/python3.7/site-packages/sklearn/discriminant_analysis.py:388: UserWarning: Variables are collinear.\n",
      "  warnings.warn(\"Variables are collinear.\")\n"
     ]
    },
    {
     "name": "stdout",
     "output_type": "stream",
     "text": [
      "[INFO] Saving lda_2...\n"
     ]
    },
    {
     "name": "stderr",
     "output_type": "stream",
     "text": [
      "/home/vitorgreati/miniconda3/envs/pandas/lib/python3.7/site-packages/sklearn/discriminant_analysis.py:388: UserWarning: Variables are collinear.\n",
      "  warnings.warn(\"Variables are collinear.\")\n"
     ]
    },
    {
     "name": "stdout",
     "output_type": "stream",
     "text": [
      "[INFO] Saving lda_3...\n"
     ]
    },
    {
     "name": "stderr",
     "output_type": "stream",
     "text": [
      "/home/vitorgreati/miniconda3/envs/pandas/lib/python3.7/site-packages/sklearn/discriminant_analysis.py:388: UserWarning: Variables are collinear.\n",
      "  warnings.warn(\"Variables are collinear.\")\n"
     ]
    },
    {
     "name": "stdout",
     "output_type": "stream",
     "text": [
      "[INFO] Saving lda_4...\n"
     ]
    },
    {
     "name": "stderr",
     "output_type": "stream",
     "text": [
      "/home/vitorgreati/miniconda3/envs/pandas/lib/python3.7/site-packages/sklearn/discriminant_analysis.py:388: UserWarning: Variables are collinear.\n",
      "  warnings.warn(\"Variables are collinear.\")\n"
     ]
    },
    {
     "name": "stdout",
     "output_type": "stream",
     "text": [
      "[INFO] Saving lda_5...\n"
     ]
    },
    {
     "name": "stderr",
     "output_type": "stream",
     "text": [
      "/home/vitorgreati/miniconda3/envs/pandas/lib/python3.7/site-packages/sklearn/discriminant_analysis.py:388: UserWarning: Variables are collinear.\n",
      "  warnings.warn(\"Variables are collinear.\")\n"
     ]
    },
    {
     "name": "stdout",
     "output_type": "stream",
     "text": [
      "[INFO] Saving lda_6...\n",
      "[INFO] Done.\n"
     ]
    }
   ],
   "source": [
    "from sklearn.discriminant_analysis import LinearDiscriminantAnalysis\n",
    "from sklearn.externals import joblib\n",
    "\n",
    "# Number of components to reduce\n",
    "rate_components = range(1,7)\n",
    "\n",
    "for rate_component in rate_components:\n",
    "    # Compute n_components\n",
    "    n_components = rate_component\n",
    "    # Create LDA instance\n",
    "    lda = LinearDiscriminantAnalysis(n_components=n_components)\n",
    "    # Fit LDA\n",
    "    lda.fit(features_data, targets)\n",
    "    # Dump model\n",
    "    joblib.dump(lda, 'models/lda_' + str(rate_component) + '.save')\n",
    "    # Save extracted attributes\n",
    "    lda_data = lda.transform(features_data)\n",
    "    # Make DataFrame\n",
    "    lda_df = pd.DataFrame(lda_data, \n",
    "                          index=features_data.index)\n",
    "    # Include targets\n",
    "    final_lda_df = pd.concat([lda_df, targets], axis=1)\n",
    "    # Save DataFrame\n",
    "    print('[INFO] Saving lda_' + str(rate_component) + '...')\n",
    "    final_lda_df.to_csv('results/lda_' + str(rate_component) + '.csv', index=False)\n",
    "\n",
    "print(\"[INFO] Done.\")"
   ]
  },
  {
   "cell_type": "code",
   "execution_count": 6,
   "metadata": {},
   "outputs": [
    {
     "name": "stdout",
     "output_type": "stream",
     "text": [
      "[INFO] LDA 1 test shape:(4808, 2)\n",
      "[INFO] Saving lda_test_1...\n",
      "[INFO] LDA 2 test shape:(4808, 3)\n",
      "[INFO] Saving lda_test_2...\n",
      "[INFO] LDA 3 test shape:(4808, 4)\n",
      "[INFO] Saving lda_test_3...\n",
      "[INFO] LDA 4 test shape:(4808, 5)\n",
      "[INFO] Saving lda_test_4...\n",
      "[INFO] LDA 5 test shape:(4808, 6)\n",
      "[INFO] Saving lda_test_5...\n",
      "[INFO] LDA 6 test shape:(4808, 7)\n",
      "[INFO] Saving lda_test_6...\n",
      "[INFO] Done.\n"
     ]
    }
   ],
   "source": [
    "from sklearn.discriminant_analysis import LinearDiscriminantAnalysis\n",
    "from sklearn.externals import joblib\n",
    "\n",
    "# Number of components to reduce\n",
    "rate_components = range(1,7)\n",
    "\n",
    "for rate_component in rate_components:\n",
    "    # load lda model\n",
    "    lda = joblib.load('models/lda_' + str(rate_component) + '.save')\n",
    "    # Save extracted attributes\n",
    "    lda_data = lda.transform(features_test_data)\n",
    "    # Make DataFrame\n",
    "    lda_df = pd.DataFrame(lda_data, \n",
    "                          index=features_test_data.index)\n",
    "    # Include targets\n",
    "    final_lda_df = pd.concat([lda_df, targets_test], axis=1)\n",
    "    # Check size\n",
    "    print('[INFO] LDA ' + str(rate_component) + ' test shape:' + str(final_lda_df.shape))\n",
    "    # Save DataFrame\n",
    "    print('[INFO] Saving lda_test_' + str(rate_component) + '...')\n",
    "    final_lda_df.to_csv('results/lda_test_' + str(rate_component) + '.csv', index=False)\n",
    "\n",
    "print(\"[INFO] Done.\")"
   ]
  },
  {
   "cell_type": "code",
   "execution_count": null,
   "metadata": {},
   "outputs": [],
   "source": []
  }
 ],
 "metadata": {
  "kernelspec": {
   "display_name": "Python 3",
   "language": "python",
   "name": "python3"
  },
  "language_info": {
   "codemirror_mode": {
    "name": "ipython",
    "version": 3
   },
   "file_extension": ".py",
   "mimetype": "text/x-python",
   "name": "python",
   "nbconvert_exporter": "python",
   "pygments_lexer": "ipython3",
   "version": "3.7.0"
  }
 },
 "nbformat": 4,
 "nbformat_minor": 2
}
